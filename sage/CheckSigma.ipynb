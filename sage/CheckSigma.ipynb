{
 "cells": [
  {
   "cell_type": "markdown",
   "id": "0f3b6a98",
   "metadata": {},
   "source": [
    "### Function definitions"
   ]
  },
  {
   "cell_type": "markdown",
   "id": "f8e4d35c",
   "metadata": {},
   "source": [
    "###### Reads .eig file eigName"
   ]
  },
  {
   "cell_type": "markdown",
   "id": "d5da2842",
   "metadata": {},
   "source": [
    "- returns the list of complex eigenvalues sorted according to their absolute values `evs.sort(key = abs)`\n",
    "- CDF means Complex Double Field"
   ]
  },
  {
   "cell_type": "code",
   "execution_count": 1,
   "id": "a2916fec",
   "metadata": {},
   "outputs": [],
   "source": [
    "def eigRead(eigName):\n",
    "    f = open(eigName, \"r\")\n",
    "    evs = []\n",
    "    for line in f:\n",
    "        s = line.split()\n",
    "        evs.append(CDF(float(s[0]), float(s[1])))\n",
    "    f.close()\n",
    "    evs.sort(key = abs)\n",
    "    return evs"
   ]
  },
  {
   "cell_type": "markdown",
   "id": "2c057155",
   "metadata": {},
   "source": [
    "###### Plots the list of complex eigenvalues in complex plane"
   ]
  },
  {
   "cell_type": "code",
   "execution_count": 2,
   "id": "07c23ab3",
   "metadata": {},
   "outputs": [],
   "source": [
    "def eigPlot(evs):\n",
    "    return list_plot([[ev.real(), ev.imag()] for ev in evs],\n",
    "        aspect_ratio = 1)"
   ]
  },
  {
   "cell_type": "markdown",
   "id": "1c1d1c80",
   "metadata": {},
   "source": [
    "###### Counts the number of zero modes\n",
    "- eigenvalues with absolute value smaller than $10^{-12}$ are assumed to be zero modes"
   ]
  },
  {
   "cell_type": "code",
   "execution_count": 3,
   "id": "f4664b2c",
   "metadata": {},
   "outputs": [],
   "source": [
    "def countZeros(evs):\n",
    "    return len([ev for ev in evs if abs(ev) < 1e-12 ])"
   ]
  },
  {
   "cell_type": "markdown",
   "id": "568796fd",
   "metadata": {},
   "source": [
    "##### Prints zero modes and maximal errors\n",
    "- maximal error is the maximal deviation of complex conjugate pairs (separately for real and for imaginary part)\n",
    "- after the maximal deviation its position in the list (list index) is written"
   ]
  },
  {
   "cell_type": "code",
   "execution_count": 4,
   "id": "ede091b0",
   "metadata": {},
   "outputs": [],
   "source": [
    "def errors(evs):\n",
    "    nz = countZeros(evs)\n",
    "    # for i in range(nz): print(i + 1, evs[i])\n",
    "    evp = evs[nz:len(evs) - nz]\n",
    "    errR = [abs(evp[2 * i].real() - evp[2 * i + 1].real()) for i in range(len(evp) / 2)]\n",
    "    errI = [abs(evp[2 * i].imag() + evp[2 * i + 1].imag()) for i in range(len(evp) / 2)]\n",
    "    return [nz, max(errR), errR.index(max(errR)), max(errI), errI.index(max(errI))]"
   ]
  },
  {
   "cell_type": "markdown",
   "id": "9679b5cc",
   "metadata": {},
   "source": [
    "##### Reads the list of the .eig files and prints maximal errors"
   ]
  },
  {
   "cell_type": "markdown",
   "id": "267916bb",
   "metadata": {},
   "source": [
    "- list of .eig files with absolute paths can be created with `find /mnt/e/Jaime/b4_64x12Ov/Eig/*.eig > eigFiles.list`"
   ]
  },
  {
   "cell_type": "code",
   "execution_count": 5,
   "id": "762f7dcd",
   "metadata": {},
   "outputs": [],
   "source": [
    "def eigFiles(eigFilesList):\n",
    "    f = open(eigFilesList, \"r\")\n",
    "    errs = []\n",
    "    for eigFileName in f:\n",
    "        errs.append(errors(eigRead(eigFileName.strip())))\n",
    "    f.close()\n",
    "    errRList = [errs[i][1] for i in range(len(errs))]\n",
    "    errIList = [errs[i][3] for i in range(len(errs))]\n",
    "    print(max(errRList), errRList.index(max(errRList)),\n",
    "          max(errIList), errIList.index(max(errIList)))\n",
    "    return errs"
   ]
  },
  {
   "cell_type": "markdown",
   "id": "151d7180",
   "metadata": {},
   "source": [
    "##### Computes chiral condensate (sigma) for quark mass `qm`"
   ]
  },
  {
   "cell_type": "code",
   "execution_count": 6,
   "id": "6f1325e5",
   "metadata": {},
   "outputs": [],
   "source": [
    "def sigma(evs, qm):\n",
    "# evs - list of eigenvalues (CDF)\n",
    "# qm - quark mass\n",
    "    one = CDF(1, 0)\n",
    "    half = CDF(0.5, 0)\n",
    "    s = CDF(0, 0) # sum\n",
    "    p = one # product\n",
    "    for i in range(len(evs)):\n",
    "        s += (one - half * evs[i]) / ((one - half * qm) * evs[i] + qm)\n",
    "        p *= ((one - half * qm) * evs[i] + qm) * half # normalization\n",
    "    d = p.real() # determinant\n",
    "    sigma = s / len(evs)\n",
    "    print(sigma, p)"
   ]
  },
  {
   "cell_type": "markdown",
   "id": "739a6ca0",
   "metadata": {},
   "source": [
    "- the function below takes normalization as a parameter"
   ]
  },
  {
   "cell_type": "code",
   "execution_count": 7,
   "id": "af00441e",
   "metadata": {},
   "outputs": [],
   "source": [
    "def sigmaN(evs, qm, normalization):\n",
    "# evs - list of eigenvalues (CDF)\n",
    "# qm - quark mass\n",
    "    one = CDF(1, 0)\n",
    "    half = CDF(0.5, 0)\n",
    "    nmz = CDF(normalization, 0)\n",
    "    s = CDF(0, 0) # sum\n",
    "    p = one # product\n",
    "    for i in range(len(evs)):\n",
    "        s += (one - half * evs[i]) / ((one - half * qm) * evs[i] + qm)\n",
    "        p *= ((one - half * qm) * evs[i] + qm) * nmz # normalization\n",
    "    d = p.real() # determinant\n",
    "    sigma = s / len(evs)\n",
    "    print(sigma, p)"
   ]
  },
  {
   "cell_type": "markdown",
   "id": "ce418f1a",
   "metadata": {},
   "source": [
    "##### Repairs eigenvalues\n",
    "- eigenvalues which are identified as zero modes (i.e. which have absolute value\n",
    "smaller than $10^{-12}$) are substituted with exact zeroes\n",
    "- for the pairs the average of real and of imaginary parts are taken"
   ]
  },
  {
   "cell_type": "code",
   "execution_count": 71,
   "id": "a796cbc8",
   "metadata": {},
   "outputs": [],
   "source": [
    "def repair(evs):\n",
    "    n = len(evs)\n",
    "    \n",
    "    # create an empty list with len(evs) elements\n",
    "    revs = [None] * n\n",
    "    \n",
    "    # set zero modes to 0 and doublers to 2\n",
    "    nz = countZeros(evs)\n",
    "    for i in range(nz):\n",
    "        revs[i] = CDF(0, 0)\n",
    "        revs[n - i - 1] = CDF(2, 0)\n",
    "    \n",
    "    # average real and imaginary parts of the conjugate complex pair\n",
    "    for i in range(nz, n - nz, 2):\n",
    "        re = (evs[i].real() + evs[i + 1].real()) / 2.0\n",
    "        im = abs((evs[i].imag() - evs[i + 1].imag()) / 2.0)\n",
    "        revs[i] = CDF(re, im)\n",
    "        revs[i + 1] = CDF(re, -im)\n",
    "    \n",
    "    return revs"
   ]
  },
  {
   "cell_type": "markdown",
   "id": "2e4e26cd",
   "metadata": {},
   "source": [
    "### Examples"
   ]
  },
  {
   "cell_type": "markdown",
   "id": "303dafbd",
   "metadata": {},
   "source": [
    "##### Very small pair\n",
    "- the configuration below has a peculiar very small pair of complex conjugate eigenvalues"
   ]
  },
  {
   "cell_type": "code",
   "execution_count": 9,
   "id": "c8a4fd6a",
   "metadata": {},
   "outputs": [],
   "source": [
    "evs = eigRead('/mnt/e/Jaime/b4_64x12Ov/Eig/L064x012_b04000i09595-HO.eig')"
   ]
  },
  {
   "cell_type": "code",
   "execution_count": 10,
   "id": "f9f0917c",
   "metadata": {},
   "outputs": [
    {
     "data": {
      "text/plain": [
       "[2.81504602466141e-15 + 5.17771643480482e-16*I,\n",
       " 1.09796914774862e-15 - 5.60549515882476e-08*I,\n",
       " 1.19518475042628e-15 + 5.60549529390457e-08*I,\n",
       " 2.4656647518349e-07 + 0.000702234213364042*I,\n",
       " 2.46566475122287e-07 - 0.000702234213364771*I,\n",
       " 2.50170533193156e-06 + 0.00223682909580103*I,\n",
       " 2.5017053319347e-06 - 0.00223682909580182*I,\n",
       " 0.0126120309313662 - 0.158319293007899*I,\n",
       " 0.0126120309313665 + 0.1583192930079*I,\n",
       " 0.0134734181098479 + 0.163601048970149*I]"
      ]
     },
     "execution_count": 10,
     "metadata": {},
     "output_type": "execute_result"
    }
   ],
   "source": [
    "evs[:10]"
   ]
  },
  {
   "cell_type": "code",
   "execution_count": 11,
   "id": "1cb8db15",
   "metadata": {},
   "outputs": [
    {
     "data": {
      "image/png": "[encoded data removed]",
      "text/plain": [
       "Graphics object consisting of 1 graphics primitive"
      ]
     },
     "execution_count": 11,
     "metadata": {},
     "output_type": "execute_result"
    }
   ],
   "source": [
    "eigPlot(evs)"
   ]
  },
  {
   "cell_type": "code",
   "execution_count": 12,
   "id": "9a3fa92e",
   "metadata": {},
   "outputs": [
    {
     "data": {
      "text/plain": [
       "1"
      ]
     },
     "execution_count": 12,
     "metadata": {},
     "output_type": "execute_result"
    }
   ],
   "source": [
    "countZeros(evs)"
   ]
  },
  {
   "cell_type": "code",
   "execution_count": 13,
   "id": "2e36df83",
   "metadata": {},
   "outputs": [
    {
     "data": {
      "text/plain": [
       "[1, 3.019806626980426e-14, 368, 2.2093438190040615e-14, 127]"
      ]
     },
     "execution_count": 13,
     "metadata": {},
     "output_type": "execute_result"
    }
   ],
   "source": [
    "errors(evs)"
   ]
  },
  {
   "cell_type": "code",
   "execution_count": 14,
   "id": "bfc69147",
   "metadata": {},
   "outputs": [
    {
     "name": "stdout",
     "output_type": "stream",
     "text": [
      "0.08280231593611694 + 5.631270694868078e-17*I 2.7782556634787088e-152 - 4.141145957500193e-166*I\n"
     ]
    }
   ],
   "source": [
    "sigma(evs, 0.1)"
   ]
  },
  {
   "cell_type": "markdown",
   "id": "9b85c544",
   "metadata": {},
   "source": [
    "- an attempt to repair eigenvalues, but it doesn't substantially change sigma"
   ]
  },
  {
   "cell_type": "code",
   "execution_count": 15,
   "id": "78e0d75a",
   "metadata": {},
   "outputs": [],
   "source": [
    "revs = repair(evs)"
   ]
  },
  {
   "cell_type": "code",
   "execution_count": 16,
   "id": "d4b07bdf",
   "metadata": {},
   "outputs": [
    {
     "data": {
      "text/plain": [
       "[0.0,\n",
       " 1.14657694908745e-15 + 5.605495226364665e-08*I,\n",
       " 1.14657694908745e-15 - 5.605495226364665e-08*I,\n",
       " 2.465664751528885e-07 + 0.0007022342133644065*I,\n",
       " 2.465664751528885e-07 - 0.0007022342133644065*I]"
      ]
     },
     "execution_count": 16,
     "metadata": {},
     "output_type": "execute_result"
    }
   ],
   "source": [
    "revs[:5]"
   ]
  },
  {
   "cell_type": "code",
   "execution_count": 17,
   "id": "1b00d82b",
   "metadata": {},
   "outputs": [
    {
     "data": {
      "text/plain": [
       "[1.999979646845555 + 0.006380117133977955*I,\n",
       " 1.999979646845555 - 0.006380117133977955*I,\n",
       " 1.99999951207614 + 0.0009878499271085256*I,\n",
       " 1.99999951207614 - 0.0009878499271085256*I,\n",
       " 2.0]"
      ]
     },
     "execution_count": 17,
     "metadata": {},
     "output_type": "execute_result"
    }
   ],
   "source": [
    "revs[-5:]"
   ]
  },
  {
   "cell_type": "code",
   "execution_count": 22,
   "id": "a77e9af1",
   "metadata": {},
   "outputs": [
    {
     "name": "stdout",
     "output_type": "stream",
     "text": [
      "3.0424772442794286 1.231560817409353e-166 - 7.501581611343206e-182*I\n"
     ]
    }
   ],
   "source": [
    "sigma(revs, 0.001)"
   ]
  },
  {
   "cell_type": "code",
   "execution_count": 23,
   "id": "06d120b5",
   "metadata": {},
   "outputs": [
    {
     "name": "stdout",
     "output_type": "stream",
     "text": [
      "3.042477244277596 - 1.1404723270907022e-12*I 1.2315608174128186e-166 + 1.4592042590007435e-178*I\n"
     ]
    }
   ],
   "source": [
    "sigma(evs, 0.001)"
   ]
  },
  {
   "cell_type": "markdown",
   "id": "9b034f6e",
   "metadata": {},
   "source": [
    "##### Configuration with no zero modes"
   ]
  },
  {
   "cell_type": "code",
   "execution_count": 20,
   "id": "3881ce62",
   "metadata": {},
   "outputs": [
    {
     "data": {
      "text/plain": [
       "0"
      ]
     },
     "execution_count": 20,
     "metadata": {},
     "output_type": "execute_result"
    }
   ],
   "source": [
    "evs = eigRead('/mnt/e/Jaime/b4_20x20Ov/Eig/L020x020_b04000i00011-HO.eig')\n",
    "countZeros(evs)"
   ]
  },
  {
   "cell_type": "code",
   "execution_count": 21,
   "id": "a0290909",
   "metadata": {},
   "outputs": [
    {
     "data": {
      "text/plain": [
       "[0.0010686471567699 + 0.0462185277436985*I,\n",
       " 0.00106864715676942 - 0.0462185277437*I,\n",
       " 0.0105495575048314 + 0.144871742745497*I,\n",
       " 0.0105495575048319 - 0.144871742745497*I,\n",
       " 0.0167978292478168 + 0.182519838451048*I,\n",
       " 0.0167978292478174 - 0.18251983845105*I]"
      ]
     },
     "execution_count": 21,
     "metadata": {},
     "output_type": "execute_result"
    }
   ],
   "source": [
    "evs[:6]"
   ]
  },
  {
   "cell_type": "code",
   "execution_count": 22,
   "id": "3edd14f8",
   "metadata": {},
   "outputs": [
    {
     "name": "stdout",
     "output_type": "stream",
     "text": [
      "0.06336563771375628 + 2.2632991401178026e-17*I 3.79661898178735e-79 - 3.3163590793733125e-92*I\n"
     ]
    }
   ],
   "source": [
    "sigma(evs, 0.1)"
   ]
  },
  {
   "cell_type": "markdown",
   "id": "d9e2bcbd",
   "metadata": {},
   "source": [
    "- adjusting normalization to get reasonable value for determinant"
   ]
  },
  {
   "cell_type": "code",
   "execution_count": 23,
   "id": "42df4d50",
   "metadata": {},
   "outputs": [
    {
     "name": "stdout",
     "output_type": "stream",
     "text": [
      "0.06336563771375628 + 2.2632991401178026e-17*I 3.79661898178735e-79 - 3.3163590793733125e-92*I\n"
     ]
    }
   ],
   "source": [
    "sigmaN(evs, 0.1, 0.5)"
   ]
  },
  {
   "cell_type": "code",
   "execution_count": 24,
   "id": "e622cbe8",
   "metadata": {},
   "outputs": [
    {
     "name": "stdout",
     "output_type": "stream",
     "text": [
      "0.06336563771375628 + 2.2632991401178026e-17*I 8.402216210053148e-16 - 7.31949675364369e-29*I\n"
     ]
    }
   ],
   "source": [
    "sigmaN(evs, 0.1, 0.6)"
   ]
  },
  {
   "cell_type": "code",
   "execution_count": 25,
   "id": "e3bebc8b",
   "metadata": {},
   "outputs": [
    {
     "name": "stdout",
     "output_type": "stream",
     "text": [
      "0.06336563771375628 + 2.2632991401178026e-17*I 0.1280582082958871 - 1.1060813723262619e-14*I\n"
     ]
    }
   ],
   "source": [
    "sigmaN(evs, 0.1, 0.625)"
   ]
  },
  {
   "cell_type": "code",
   "execution_count": 26,
   "id": "bbe4e535",
   "metadata": {},
   "outputs": [
    {
     "name": "stdout",
     "output_type": "stream",
     "text": [
      "0.10923888229601555 + 9.8917185206715e-18*I 464526068735.5922 - 0.04152488708496094*I\n"
     ]
    }
   ],
   "source": [
    "sigmaN(evs, 0.5, 0.625)"
   ]
  },
  {
   "cell_type": "markdown",
   "id": "59a5713b",
   "metadata": {},
   "source": [
    "##### Configuration with many zero modes"
   ]
  },
  {
   "cell_type": "code",
   "execution_count": 51,
   "id": "89943963",
   "metadata": {},
   "outputs": [
    {
     "data": {
      "text/plain": [
       "4"
      ]
     },
     "execution_count": 51,
     "metadata": {},
     "output_type": "execute_result"
    }
   ],
   "source": [
    "evs = eigRead('/mnt/e/Jaime/b4_20x20Ov/Eig/L020x020_b04000i00006-HO.eig')\n",
    "countZeros(evs)"
   ]
  },
  {
   "cell_type": "code",
   "execution_count": 52,
   "id": "02efcd89",
   "metadata": {},
   "outputs": [
    {
     "data": {
      "text/plain": [
       "[5.78258277514479e-16 - 1.5147656666827e-15*I,\n",
       " 1.88482896157554e-15 + 1.24343169018032e-15*I,\n",
       " 3.71800131112136e-15 - 1.27233170360348e-15*I,\n",
       " 5.01656206452631e-15 - 1.56969078381883e-16*I,\n",
       " 0.0128117316344498 - 0.159559778144199*I,\n",
       " 0.0128117316344499 + 0.1595597781442*I]"
      ]
     },
     "execution_count": 52,
     "metadata": {},
     "output_type": "execute_result"
    }
   ],
   "source": [
    "evs[:6]"
   ]
  },
  {
   "cell_type": "code",
   "execution_count": 53,
   "id": "d0f269da",
   "metadata": {},
   "outputs": [
    {
     "name": "stdout",
     "output_type": "stream",
     "text": [
      "50.000039778083355 + 2.1257934409444424e-10*I 1.855511225033689e-92 - 3.15638990775118e-103*I\n"
     ]
    }
   ],
   "source": [
    "sigma(evs, 0.0001)"
   ]
  },
  {
   "cell_type": "code",
   "execution_count": 72,
   "id": "d69d8469",
   "metadata": {},
   "outputs": [],
   "source": [
    "revs = repair(evs)"
   ]
  },
  {
   "cell_type": "code",
   "execution_count": 73,
   "id": "038b32eb",
   "metadata": {},
   "outputs": [
    {
     "data": {
      "text/plain": [
       "[0.0,\n",
       " 0.0,\n",
       " 0.0,\n",
       " 0.0,\n",
       " 0.01281173163444985 + 0.1595597781441995*I,\n",
       " 0.01281173163444985 - 0.1595597781441995*I]"
      ]
     },
     "execution_count": 73,
     "metadata": {},
     "output_type": "execute_result"
    }
   ],
   "source": [
    "revs[:6]"
   ]
  },
  {
   "cell_type": "code",
   "execution_count": 74,
   "id": "bc9c17fc",
   "metadata": {},
   "outputs": [
    {
     "data": {
      "text/plain": [
       "[1.9999318714976249 + 0.0116727187599185*I,\n",
       " 1.9999318714976249 - 0.0116727187599185*I,\n",
       " 2.0,\n",
       " 2.0,\n",
       " 2.0,\n",
       " 2.0]"
      ]
     },
     "execution_count": 74,
     "metadata": {},
     "output_type": "execute_result"
    }
   ],
   "source": [
    "revs[-6:]"
   ]
  },
  {
   "cell_type": "code",
   "execution_count": 75,
   "id": "0682ed69",
   "metadata": {},
   "outputs": [
    {
     "name": "stdout",
     "output_type": "stream",
     "text": [
      "5.000397789961837 1.8558035387184147e-88 + 1.6045355224299515e-103*I\n"
     ]
    }
   ],
   "source": [
    "sigma(revs, 0.001)"
   ]
  },
  {
   "cell_type": "code",
   "execution_count": 76,
   "id": "bdb37d86",
   "metadata": {},
   "outputs": [
    {
     "name": "stdout",
     "output_type": "stream",
     "text": [
      "5.000397789947839 + 2.1257942540190953e-12*I 1.8558035387392115e-88 - 3.165104923166747e-100*I\n"
     ]
    }
   ],
   "source": [
    "sigma(evs, 0.001)"
   ]
  },
  {
   "cell_type": "markdown",
   "id": "b0737902",
   "metadata": {},
   "source": [
    "#### Maximal errors in complex conjugate pairs"
   ]
  },
  {
   "cell_type": "code",
   "execution_count": 39,
   "id": "bcc27b28",
   "metadata": {},
   "outputs": [
    {
     "name": "stdout",
     "output_type": "stream",
     "text": [
      "5.0182080713057076e-14 8033 4.196643033083092e-14 8368\n"
     ]
    }
   ],
   "source": [
    "errs = eigFiles('/mnt/e/Jaime/b4_20x20Ov/eigFiles.list')"
   ]
  },
  {
   "cell_type": "code",
   "execution_count": 40,
   "id": "94724d4c",
   "metadata": {},
   "outputs": [
    {
     "name": "stdout",
     "output_type": "stream",
     "text": [
      "5.995204332975845e-14 9293 4.696243394164412e-14 7013\n"
     ]
    }
   ],
   "source": [
    "errs = eigFiles('/mnt/e/Jaime/b4_64x10Ov/eigFiles.list')"
   ]
  },
  {
   "cell_type": "code",
   "execution_count": 38,
   "id": "956c83c8",
   "metadata": {
    "scrolled": true
   },
   "outputs": [
    {
     "name": "stdout",
     "output_type": "stream",
     "text": [
      "5.995204332975845e-14 6591 4.807265696626928e-14 6483\n"
     ]
    }
   ],
   "source": [
    "errs = eigFiles('/mnt/e/Jaime/b4_64x12Ov/eigFiles.list')"
   ]
  },
  {
   "cell_type": "code",
   "execution_count": 42,
   "id": "11c902fa",
   "metadata": {},
   "outputs": [
    {
     "name": "stdout",
     "output_type": "stream",
     "text": [
      "6.994405055138486e-14 2208 4.9960036108132044e-14 8959\n"
     ]
    }
   ],
   "source": [
    "errs = eigFiles('/mnt/e/Jaime/b4_64x16Ov/eigFiles.list')"
   ]
  },
  {
   "cell_type": "markdown",
   "id": "245feb9f",
   "metadata": {},
   "source": [
    "#### WARNING: problem with .sort()"
   ]
  },
  {
   "cell_type": "code",
   "execution_count": 27,
   "id": "f534cf58",
   "metadata": {},
   "outputs": [],
   "source": [
    "evs = eigRead('/mnt/e/Jaime/b4_64x12Ov/Eig/L064x012_b04000i09595-HO.eig')"
   ]
  },
  {
   "cell_type": "code",
   "execution_count": 28,
   "id": "c715f3a3",
   "metadata": {},
   "outputs": [],
   "source": [
    "evs.sort()"
   ]
  },
  {
   "cell_type": "code",
   "execution_count": 29,
   "id": "2e10c225",
   "metadata": {},
   "outputs": [
    {
     "data": {
      "text/plain": [
       "[1.09796914774862e-15 - 5.60549515882476e-08*I,\n",
       " 1.19518475042628e-15 + 5.60549529390457e-08*I,\n",
       " 2.81504602466141e-15 + 5.17771643480482e-16*I,\n",
       " 2.46566475122287e-07 - 0.000702234213364771*I,\n",
       " 2.4656647518349e-07 + 0.000702234213364042*I,\n",
       " 2.50170533193156e-06 + 0.00223682909580103*I,\n",
       " 2.5017053319347e-06 - 0.00223682909580182*I]"
      ]
     },
     "execution_count": 29,
     "metadata": {},
     "output_type": "execute_result"
    }
   ],
   "source": [
    "evs[:7]"
   ]
  },
  {
   "cell_type": "code",
   "execution_count": 30,
   "id": "df7ad372",
   "metadata": {},
   "outputs": [],
   "source": [
    "evs.sort(key = abs)"
   ]
  },
  {
   "cell_type": "code",
   "execution_count": 31,
   "id": "b2bd91d9",
   "metadata": {},
   "outputs": [
    {
     "data": {
      "text/plain": [
       "[2.81504602466141e-15 + 5.17771643480482e-16*I,\n",
       " 1.09796914774862e-15 - 5.60549515882476e-08*I,\n",
       " 1.19518475042628e-15 + 5.60549529390457e-08*I,\n",
       " 2.4656647518349e-07 + 0.000702234213364042*I,\n",
       " 2.46566475122287e-07 - 0.000702234213364771*I,\n",
       " 2.50170533193156e-06 + 0.00223682909580103*I,\n",
       " 2.5017053319347e-06 - 0.00223682909580182*I]"
      ]
     },
     "execution_count": 31,
     "metadata": {},
     "output_type": "execute_result"
    }
   ],
   "source": [
    "evs[:7]"
   ]
  },
  {
   "cell_type": "markdown",
   "id": "19e862ff",
   "metadata": {},
   "source": [
    "*Hip, 2022-08-17*"
   ]
  },
  {
   "cell_type": "code",
   "execution_count": 57,
   "id": "460df458",
   "metadata": {},
   "outputs": [
    {
     "data": {
      "text/html": [
       "<html><script type=\"math/tex; mode=display\">\\newcommand{\\Bold}[1]{\\mathbf{#1}}\\left[0, 0, \\frac{5}{2}, \\frac{5}{2}, \\frac{9}{2}, \\frac{9}{2}, \\frac{13}{2}, \\frac{13}{2}, 2, 2\\right]</script></html>"
      ],
      "text/latex": [
       "$$\\newcommand{\\Bold}[1]{\\mathbf{#1}}\\left[0, 0, \\frac{5}{2}, \\frac{5}{2}, \\frac{9}{2}, \\frac{9}{2}, \\frac{13}{2}, \\frac{13}{2}, 2, 2\\right]$$"
      ],
      "text/plain": [
       "[0, 0, 5/2, 5/2, 9/2, 9/2, 13/2, 13/2, 2, 2]"
      ]
     },
     "metadata": {},
     "output_type": "display_data"
    }
   ],
   "source": [
    "a = [i for i in range(10)]\n",
    "for i in range(2):\n",
    "    a[i] = 0\n",
    "    a[10 - i - 1] = 2\n",
    "for i in range(2, 10 - 2, 2):\n",
    "    a[i] = (i + i + 1) / 2\n",
    "    a[i + 1] = (i + i + 1) / 2\n",
    "show(a)"
   ]
  },
  {
   "cell_type": "code",
   "execution_count": null,
   "id": "a768df08",
   "metadata": {},
   "outputs": [],
   "source": []
  }
 ],
 "metadata": {
  "kernelspec": {
   "display_name": "SageMath 9.5",
   "language": "sage",
   "name": "sagemath"
  },
  "language_info": {
   "codemirror_mode": {
    "name": "ipython",
    "version": 3
   },
   "file_extension": ".py",
   "mimetype": "text/x-python",
   "name": "python",
   "nbconvert_exporter": "python",
   "pygments_lexer": "ipython3",
   "version": "3.10.4"
  }
 },
 "nbformat": 4,
 "nbformat_minor": 5
}
