{
 "cells": [
  {
   "cell_type": "markdown",
   "id": "7e446b81",
   "metadata": {},
   "source": [
    "# detM-v2"
   ]
  },
  {
   "cell_type": "markdown",
   "id": "abf1811b",
   "metadata": {},
   "source": [
    "*Prepares histogram of the determinants of a massive overlap Dirac operator*"
   ]
  },
  {
   "cell_type": "markdown",
   "id": "6de7225e",
   "metadata": {},
   "source": [
    "## Function definitions"
   ]
  },
  {
   "cell_type": "markdown",
   "id": "43486d34",
   "metadata": {},
   "source": [
    "- load the necessary modules:"
   ]
  },
  {
   "cell_type": "code",
   "execution_count": 1,
   "id": "270ac257",
   "metadata": {},
   "outputs": [],
   "source": [
    "import matplotlib.pyplot as plt\n",
    "import numpy as np"
   ]
  },
  {
   "cell_type": "markdown",
   "id": "2f38d0d7",
   "metadata": {},
   "source": [
    "- read complex eigenvalues of one configuration:"
   ]
  },
  {
   "cell_type": "code",
   "execution_count": 2,
   "id": "934d3654",
   "metadata": {},
   "outputs": [],
   "source": [
    "def readCEVs(eigFile):\n",
    "# eigFile - name of .eig file with eigenvalues\n",
    "    cevs = np.loadtxt(eigFile)\n",
    "    return np.array([np.complex128(cev[0] + cev[1] * 1j) for cev in cevs])"
   ]
  },
  {
   "cell_type": "markdown",
   "id": "94605561",
   "metadata": {},
   "source": [
    "- read complex eigenvalues of all configurations at once:"
   ]
  },
  {
   "cell_type": "code",
   "execution_count": 3,
   "id": "16e3e7f8",
   "metadata": {},
   "outputs": [],
   "source": [
    "def readAllCEVs(eigFilesList):\n",
    "# eigFilesList - list of .eig file names\n",
    "    f = open(eigFilesList, \"r\")\n",
    "    allCEVs = []\n",
    "    for eigFileName in f:\n",
    "        allCEVs.append(readCEVs(eigFileName.strip()))\n",
    "    f.close()\n",
    "    return allCEVs"
   ]
  },
  {
   "cell_type": "markdown",
   "id": "a22b2862",
   "metadata": {},
   "source": [
    "- absolute value of topological charge is equal to the number of zero modes:"
   ]
  },
  {
   "cell_type": "code",
   "execution_count": 4,
   "id": "b0627103",
   "metadata": {},
   "outputs": [],
   "source": [
    "def countZeros(cevs):\n",
    "# cevs - complex eigenvalues of one configuration\n",
    "    return len([cev for cev in cevs if abs(cev) < 1e-12])"
   ]
  },
  {
   "cell_type": "markdown",
   "id": "4c184f7a",
   "metadata": {},
   "source": [
    "- computes determinant of a massive overlap operator using eigenvalues:"
   ]
  },
  {
   "cell_type": "code",
   "execution_count": 5,
   "id": "4274872f",
   "metadata": {},
   "outputs": [],
   "source": [
    "def detM(cevs, qm, nmz, out):\n",
    "# cevs - complex eigenvalues\n",
    "# qm - quark mass\n",
    "# nmz - numerical normalization (about 0.63 is optimal)\n",
    "# out - print complex p if True\n",
    "    f = 1.0 - qm / 2.0\n",
    "    p = np.complex128(1 + 0j)\n",
    "    for i in range(len(cevs)):\n",
    "        p *= (f * cevs[i] + qm) * nmz\n",
    "    if out: print(p)\n",
    "    return p.real"
   ]
  },
  {
   "cell_type": "markdown",
   "id": "82a04033",
   "metadata": {},
   "source": [
    "- computes normalized determinants (max = 1) of an ensemble:"
   ]
  },
  {
   "cell_type": "code",
   "execution_count": 6,
   "id": "402c9c5e",
   "metadata": {},
   "outputs": [],
   "source": [
    "def detEnMax1(allCEVs, qm):\n",
    "# allCEVs - eigenvalues for all configurations\n",
    "# qm - quark mass\n",
    "    dets = [detM(cevs, qm, 0.63, False) for cevs in allCEVs]\n",
    "    dmax = max(dets)\n",
    "    return [d / dmax for d in dets]"
   ]
  },
  {
   "cell_type": "markdown",
   "id": "16a2c661",
   "metadata": {},
   "source": [
    "- sort determinants according to absolute topological charge:"
   ]
  },
  {
   "cell_type": "code",
   "execution_count": 7,
   "id": "c0404d74",
   "metadata": {},
   "outputs": [],
   "source": [
    "def QdetEnMax1(allCEVs, qm):\n",
    "# allCEVs - eigenvalues for all configurations\n",
    "# qm - quark mass\n",
    "\n",
    "    # compute determinants for all configuration\n",
    "    dets = [detM(cevs, qm, 0.63, False) for cevs in allCEVs]\n",
    "\n",
    "    # normalize determinants to max is equal to one\n",
    "    dmax = max(dets)\n",
    "    dets = [d / dmax for d in dets]\n",
    "\n",
    "    # compute absolute topological charge\n",
    "    Qs = [countZeros(cevs) for cevs in allCEVs]\n",
    "\n",
    "    # find maximal topological charge\n",
    "    Qmax = int(max(Qs))\n",
    "    print(\"Qmax =\", Qmax)\n",
    "\n",
    "    # create Qmax + 1 empty lists\n",
    "    Qdet = []\n",
    "    for i in range(Qmax + 1): Qdet.append([])\n",
    "\n",
    "    # add determinants according to topological charge\n",
    "    for i in range(len(dets)):\n",
    "        Qdet[Qs[i]].append(dets[i])\n",
    "        \n",
    "    # how many entries are in each topological sector\n",
    "    print([len(Qdet[i]) for i in range(Qmax + 1)])\n",
    "    print()\n",
    "    \n",
    "    return Qdet"
   ]
  },
  {
   "cell_type": "markdown",
   "id": "3f72bdaa",
   "metadata": {},
   "source": [
    "## Examples"
   ]
  },
  {
   "cell_type": "markdown",
   "id": "37302916",
   "metadata": {},
   "source": [
    "- read complex eigenvalues of one configuration:"
   ]
  },
  {
   "cell_type": "code",
   "execution_count": 8,
   "id": "0fd38766",
   "metadata": {},
   "outputs": [
    {
     "data": {
      "text/plain": [
       "(0.00213644822675577-0.0653324731085987j)"
      ]
     },
     "execution_count": 8,
     "metadata": {},
     "output_type": "execute_result"
    }
   ],
   "source": [
    "cevs = readCEVs(\"/mnt/e/Jaime/b4_20x20Ov/Eig/L020x020_b04000i00001-HO.eig\")\n",
    "cevs[0]"
   ]
  },
  {
   "cell_type": "markdown",
   "id": "b163f07b",
   "metadata": {},
   "source": [
    "- compute determinant for quark mass 0.05:"
   ]
  },
  {
   "cell_type": "code",
   "execution_count": 9,
   "id": "3e1966ca",
   "metadata": {
    "scrolled": true
   },
   "outputs": [
    {
     "name": "stdout",
     "output_type": "stream",
     "text": [
      "(2.6583807559420576-1.992850329202156e-14j)\n"
     ]
    },
    {
     "data": {
      "text/plain": [
       "2.6583807559420576"
      ]
     },
     "execution_count": 9,
     "metadata": {},
     "output_type": "execute_result"
    }
   ],
   "source": [
    "detM(cevs, 0.05, 0.63, True)"
   ]
  },
  {
   "cell_type": "markdown",
   "id": "bf950b4a",
   "metadata": {},
   "source": [
    "- compute absolute value of topological charge:"
   ]
  },
  {
   "cell_type": "code",
   "execution_count": 10,
   "id": "f583bcc1",
   "metadata": {},
   "outputs": [
    {
     "data": {
      "text/plain": [
       "1"
      ]
     },
     "execution_count": 10,
     "metadata": {},
     "output_type": "execute_result"
    }
   ],
   "source": [
    "countZeros(cevs)"
   ]
  },
  {
   "cell_type": "markdown",
   "id": "8b9af1e6",
   "metadata": {},
   "source": [
    "## Results"
   ]
  },
  {
   "cell_type": "markdown",
   "id": "dfc64cbe",
   "metadata": {},
   "source": [
    "- read complex eigenvalues of all configurations from an ensemble:"
   ]
  },
  {
   "cell_type": "code",
   "execution_count": 11,
   "id": "2af36ef6",
   "metadata": {},
   "outputs": [
    {
     "name": "stdout",
     "output_type": "stream",
     "text": [
      "CPU times: user 50 s, sys: 5.55 s, total: 55.6 s\n",
      "Wall time: 1min 55s\n"
     ]
    }
   ],
   "source": [
    "%%time\n",
    "allCEVs = readAllCEVs(\"/mnt/e/Jaime/b4_20x20Ov/eigFiles.list\")"
   ]
  },
  {
   "cell_type": "markdown",
   "id": "bd718374",
   "metadata": {},
   "source": [
    "#### Quark mass = 0.05"
   ]
  },
  {
   "cell_type": "markdown",
   "id": "26da49d1",
   "metadata": {},
   "source": [
    "- compute determinants normalized to *max* = 1 for quark mass 0.05:"
   ]
  },
  {
   "cell_type": "code",
   "execution_count": 12,
   "id": "57781c68",
   "metadata": {},
   "outputs": [
    {
     "name": "stdout",
     "output_type": "stream",
     "text": [
      "CPU times: user 3.11 s, sys: 16 ms, total: 3.13 s\n",
      "Wall time: 3.13 s\n"
     ]
    }
   ],
   "source": [
    "%%time\n",
    "dets = detEnMax1(allCEVs, 0.05)"
   ]
  },
  {
   "cell_type": "code",
   "execution_count": 13,
   "id": "1fa5832d",
   "metadata": {
    "scrolled": true
   },
   "outputs": [
    {
     "data": {
      "text/plain": [
       "[0.01520670613357288,\n",
       " 0.019749360256504034,\n",
       " 0.009750188723213512,\n",
       " 0.024755490133428804,\n",
       " 0.008313437300582396,\n",
       " 0.001942756592798554,\n",
       " 0.005893719774442306,\n",
       " 0.018367616653706186,\n",
       " 0.00022440915512308182,\n",
       " 0.06696043871009695]"
      ]
     },
     "execution_count": 13,
     "metadata": {},
     "output_type": "execute_result"
    }
   ],
   "source": [
    "dets[:10]"
   ]
  },
  {
   "cell_type": "markdown",
   "id": "f5cc76b8",
   "metadata": {},
   "source": [
    "- plot the histogram:"
   ]
  },
  {
   "cell_type": "code",
   "execution_count": 14,
   "id": "fb363437",
   "metadata": {},
   "outputs": [
    {
     "data": {
      "image/png": "[encoded data removed]",
      "text/plain": [
       "<Figure size 432x288 with 1 Axes>"
      ]
     },
     "metadata": {
      "needs_background": "light"
     },
     "output_type": "display_data"
    }
   ],
   "source": [
    "plt.xscale('log')\n",
    "plt.hist(dets, bins = [10.0**r for r in np.arange(-5.0, 0, 0.2)]);"
   ]
  },
  {
   "cell_type": "markdown",
   "id": "5794f459",
   "metadata": {},
   "source": [
    "#### Quark mass = 0.01"
   ]
  },
  {
   "cell_type": "code",
   "execution_count": 15,
   "id": "ba0f658d",
   "metadata": {},
   "outputs": [
    {
     "name": "stdout",
     "output_type": "stream",
     "text": [
      "CPU times: user 3.12 s, sys: 4.87 ms, total: 3.12 s\n",
      "Wall time: 3.12 s\n"
     ]
    }
   ],
   "source": [
    "%%time\n",
    "dets = detEnMax1(allCEVs, 0.01)"
   ]
  },
  {
   "cell_type": "code",
   "execution_count": 16,
   "id": "e2eaa631",
   "metadata": {
    "scrolled": false
   },
   "outputs": [
    {
     "data": {
      "image/png": "[encoded data removed]",
      "text/plain": [
       "<Figure size 432x288 with 1 Axes>"
      ]
     },
     "metadata": {
      "needs_background": "light"
     },
     "output_type": "display_data"
    }
   ],
   "source": [
    "plt.xscale('log')\n",
    "plt.hist(dets, bins = [10.0**r for r in np.arange(-8.0, 0, 0.2)]);"
   ]
  },
  {
   "cell_type": "markdown",
   "id": "e9340df8",
   "metadata": {},
   "source": [
    "### Topology"
   ]
  },
  {
   "cell_type": "markdown",
   "id": "dcfcccf6",
   "metadata": {},
   "source": [
    "#### Quark mass = 0.05"
   ]
  },
  {
   "cell_type": "code",
   "execution_count": 17,
   "id": "6230ba36",
   "metadata": {},
   "outputs": [
    {
     "name": "stdout",
     "output_type": "stream",
     "text": [
      "Qmax = 7\n",
      "[2307, 3844, 2365, 1050, 335, 78, 17, 4]\n",
      "\n",
      "CPU times: user 3.99 s, sys: 6.61 ms, total: 3.99 s\n",
      "Wall time: 3.99 s\n"
     ]
    }
   ],
   "source": [
    "%%time\n",
    "Qdet = QdetEnMax1(allCEVs, 0.05)"
   ]
  },
  {
   "cell_type": "code",
   "execution_count": 18,
   "id": "da0b2fdb",
   "metadata": {},
   "outputs": [
    {
     "data": {
      "image/png": "[encoded data removed]",
      "text/plain": [
       "<Figure size 432x288 with 1 Axes>"
      ]
     },
     "metadata": {
      "needs_background": "light"
     },
     "output_type": "display_data"
    }
   ],
   "source": [
    "plt.xscale('log')\n",
    "plt.hist([Qdet[i] for i in range(len(Qdet))], stacked = True, bins = [10.0**r for r in np.arange(-5.0, 0, 0.2)]);"
   ]
  },
  {
   "cell_type": "code",
   "execution_count": 19,
   "id": "90227a70",
   "metadata": {},
   "outputs": [
    {
     "data": {
      "image/png": "[encoded data removed]",
      "text/plain": [
       "<Figure size 432x288 with 1 Axes>"
      ]
     },
     "metadata": {
      "needs_background": "light"
     },
     "output_type": "display_data"
    }
   ],
   "source": [
    "plt.xscale('log')\n",
    "plt.hist([Qdet[0], Qdet[4]], stacked = False, bins = [10.0**r for r in np.arange(-5.0, 0, 0.2)]);"
   ]
  },
  {
   "cell_type": "markdown",
   "id": "a52e3325",
   "metadata": {},
   "source": [
    "#### Quark mass = 0.01"
   ]
  },
  {
   "cell_type": "code",
   "execution_count": 20,
   "id": "8bde8b74",
   "metadata": {},
   "outputs": [
    {
     "name": "stdout",
     "output_type": "stream",
     "text": [
      "Qmax = 7\n",
      "[2307, 3844, 2365, 1050, 335, 78, 17, 4]\n",
      "\n",
      "CPU times: user 3.99 s, sys: 5.96 ms, total: 4 s\n",
      "Wall time: 4 s\n"
     ]
    }
   ],
   "source": [
    "%%time\n",
    "Qdet = QdetEnMax1(allCEVs, 0.01)"
   ]
  },
  {
   "cell_type": "code",
   "execution_count": 21,
   "id": "44b4c9d3",
   "metadata": {},
   "outputs": [
    {
     "data": {
      "image/png": "[encoded data removed]",
      "text/plain": [
       "<Figure size 432x288 with 1 Axes>"
      ]
     },
     "metadata": {
      "needs_background": "light"
     },
     "output_type": "display_data"
    }
   ],
   "source": [
    "plt.xscale('log')\n",
    "plt.hist([Qdet[i] for i in range(len(Qdet))], stacked = True, bins = [10.0**r for r in np.arange(-8.0, 0, 0.2)]);"
   ]
  },
  {
   "cell_type": "code",
   "execution_count": 22,
   "id": "c51c4201",
   "metadata": {},
   "outputs": [
    {
     "data": {
      "image/png": "[encoded data removed]",
      "text/plain": [
       "<Figure size 432x288 with 1 Axes>"
      ]
     },
     "metadata": {
      "needs_background": "light"
     },
     "output_type": "display_data"
    }
   ],
   "source": [
    "plt.xscale('log')\n",
    "plt.hist([Qdet[0], Qdet[4]], stacked = False, bins = [10.0**r for r in np.arange(-8.0, 0, 0.2)]);"
   ]
  },
  {
   "cell_type": "markdown",
   "id": "78e234c0",
   "metadata": {},
   "source": [
    "*Hip, 2023-08-04*"
   ]
  }
 ],
 "metadata": {
  "kernelspec": {
   "display_name": "Python 3 (ipykernel)",
   "language": "python",
   "name": "python3"
  },
  "language_info": {
   "codemirror_mode": {
    "name": "ipython",
    "version": 3
   },
   "file_extension": ".py",
   "mimetype": "text/x-python",
   "name": "python",
   "nbconvert_exporter": "python",
   "pygments_lexer": "ipython3",
   "version": "3.10.12"
  }
 },
 "nbformat": 4,
 "nbformat_minor": 5
}
