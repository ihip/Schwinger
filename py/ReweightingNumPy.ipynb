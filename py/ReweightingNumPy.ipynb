{
 "cells": [
  {
   "cell_type": "markdown",
   "id": "7e446b81",
   "metadata": {},
   "source": [
    "# Reweighting"
   ]
  },
  {
   "cell_type": "markdown",
   "id": "abf1811b",
   "metadata": {},
   "source": [
    "*Properties of the reweighting procedure for observable $\\Sigma$*"
   ]
  },
  {
   "cell_type": "markdown",
   "id": "6de7225e",
   "metadata": {},
   "source": [
    "## Function definitions"
   ]
  },
  {
   "cell_type": "markdown",
   "id": "43486d34",
   "metadata": {},
   "source": [
    "- load the necessary modules:"
   ]
  },
  {
   "cell_type": "code",
   "execution_count": 1,
   "id": "270ac257",
   "metadata": {},
   "outputs": [],
   "source": [
    "import matplotlib.pyplot as plt\n",
    "import numpy as np"
   ]
  },
  {
   "cell_type": "markdown",
   "id": "2f38d0d7",
   "metadata": {},
   "source": [
    "- read complex eigenvalues of one configuration:"
   ]
  },
  {
   "cell_type": "code",
   "execution_count": 2,
   "id": "934d3654",
   "metadata": {},
   "outputs": [],
   "source": [
    "def readCEVs(eigFile):\n",
    "# eigFile - name of .eig file with eigenvalues\n",
    "    cevs = np.loadtxt(eigFile)\n",
    "    return np.array([np.complex128(cev[0] + cev[1] * 1j) for cev in cevs])"
   ]
  },
  {
   "cell_type": "markdown",
   "id": "94605561",
   "metadata": {},
   "source": [
    "- read complex eigenvalues of all configurations at once:"
   ]
  },
  {
   "cell_type": "code",
   "execution_count": 3,
   "id": "16e3e7f8",
   "metadata": {},
   "outputs": [],
   "source": [
    "def readAllCEVs(eigFilesList):\n",
    "# eigFilesList - list of .eig file names\n",
    "    f = open(eigFilesList, \"r\")\n",
    "    allCEVs = []\n",
    "    for eigFileName in f:\n",
    "        allCEVs.append(readCEVs(eigFileName.strip()))\n",
    "    f.close()\n",
    "    return allCEVs"
   ]
  },
  {
   "cell_type": "markdown",
   "id": "a22b2862",
   "metadata": {},
   "source": [
    "- absolute value of topological charge is equal to the number of zero modes:"
   ]
  },
  {
   "cell_type": "code",
   "execution_count": 4,
   "id": "b0627103",
   "metadata": {},
   "outputs": [],
   "source": [
    "def countZeros(cevs):\n",
    "# cevs - complex eigenvalues of one configuration\n",
    "    return len([cev for cev in cevs if abs(cev) < 1e-12])"
   ]
  },
  {
   "cell_type": "markdown",
   "id": "4c184f7a",
   "metadata": {},
   "source": [
    "- computes determinant of a massive overlap operator using eigenvalues:"
   ]
  },
  {
   "cell_type": "code",
   "execution_count": 5,
   "id": "4274872f",
   "metadata": {},
   "outputs": [],
   "source": [
    "def detM(cevs, qm, nmz, out):\n",
    "# cevs - complex eigenvalues\n",
    "# qm - quark mass\n",
    "# nmz - numerical normalization (about 0.63 is optimal)\n",
    "# out - print complex p if True\n",
    "    f = 1.0 - qm / 2.0\n",
    "    p = np.complex128(1 + 0j)\n",
    "    for i in range(len(cevs)):\n",
    "        p *= (f * cevs[i] + qm) * nmz\n",
    "    if out: print(p)\n",
    "    return p.real"
   ]
  },
  {
   "cell_type": "markdown",
   "id": "82a04033",
   "metadata": {},
   "source": [
    "- computes normalized determinants (max = 1) of an ensemble:"
   ]
  },
  {
   "cell_type": "code",
   "execution_count": 6,
   "id": "402c9c5e",
   "metadata": {},
   "outputs": [],
   "source": [
    "def detEnMax1(allCEVs, qm):\n",
    "# allCEVs - eigenvalues for all configurations\n",
    "# qm - quark mass\n",
    "    dets = [detM(cevs, qm, 0.63, False) for cevs in allCEVs]\n",
    "    dmax = max(dets)\n",
    "    return [d / dmax for d in dets]"
   ]
  },
  {
   "cell_type": "markdown",
   "id": "16a2c661",
   "metadata": {},
   "source": [
    "- sort determinants according to absolute topological charge:"
   ]
  },
  {
   "cell_type": "code",
   "execution_count": 7,
   "id": "c0404d74",
   "metadata": {},
   "outputs": [],
   "source": [
    "def QdetEnMax1(allCEVs, qm):\n",
    "# allCEVs - eigenvalues for all configurations\n",
    "# qm - quark mass\n",
    "\n",
    "    # compute determinants for all configuration\n",
    "    dets = [detM(cevs, qm, 0.63, False) for cevs in allCEVs]\n",
    "\n",
    "    # normalize determinants to max is equal to one\n",
    "    dmax = max(dets)\n",
    "    dets = [d / dmax for d in dets]\n",
    "\n",
    "    # compute absolute topological charge\n",
    "    Qs = [countZeros(cevs) for cevs in allCEVs]\n",
    "\n",
    "    # find maximal topological charge\n",
    "    Qmax = int(max(Qs))\n",
    "    print(\"Qmax =\", Qmax)\n",
    "\n",
    "    # create Qmax + 1 empty lists\n",
    "    Qdet = []\n",
    "    for i in range(Qmax + 1): Qdet.append([])\n",
    "\n",
    "    # add determinants according to topological charge\n",
    "    for i in range(len(dets)):\n",
    "        Qdet[Qs[i]].append(dets[i])\n",
    "        \n",
    "    # how many entries are in each topological sector\n",
    "    print([len(Qdet[i]) for i in range(Qmax + 1)])\n",
    "    print()\n",
    "    \n",
    "    return Qdet"
   ]
  },
  {
   "cell_type": "markdown",
   "id": "99109c79",
   "metadata": {},
   "source": [
    "- compute $\\Sigma$ from complex eigenvalues for a given quark mass `qm`:"
   ]
  },
  {
   "cell_type": "code",
   "execution_count": 8,
   "id": "ebc9cdd7",
   "metadata": {},
   "outputs": [],
   "source": [
    "def sigma(cevs, qm, out):\n",
    "# cevs - list of complex eigenvalues\n",
    "# qm - quark mass\n",
    "# out - if True sigma is printed\n",
    "    f = 1.0 - qm / 2.0\n",
    "    s = np.complex128(0.0 + 0.0j) # sum\n",
    "    for i in range(len(cevs)):\n",
    "        s += (1.0 - 0.5 * cevs[i]) / (f * cevs[i] + qm)\n",
    "    # len(cevs) is 2 * L^2 because of 2 spinor components\n",
    "    sig = s / (len(cevs) * 0.5) # division by L^2\n",
    "    if out: print(sig) # imaginary part should be near zero \n",
    "    return sig.real"
   ]
  },
  {
   "cell_type": "markdown",
   "id": "d18157fe",
   "metadata": {},
   "source": [
    "- compute $\\Sigma$ for a given quark mass `qm` for all configurations:"
   ]
  },
  {
   "cell_type": "code",
   "execution_count": 9,
   "id": "56a0e13c",
   "metadata": {},
   "outputs": [],
   "source": [
    "def sigmaEn(allCEVs, qm):\n",
    "# allCEVs - eigenvalues for all configurations\n",
    "# qm - quark mass\n",
    "    sigmas = [sigma(cevs, qm, False) for cevs in allCEVs]\n",
    "    return sigmas"
   ]
  },
  {
   "cell_type": "markdown",
   "id": "3f72bdaa",
   "metadata": {},
   "source": [
    "## Examples"
   ]
  },
  {
   "cell_type": "markdown",
   "id": "37302916",
   "metadata": {},
   "source": [
    "- read complex eigenvalues of one configuration:"
   ]
  },
  {
   "cell_type": "code",
   "execution_count": 10,
   "id": "0fd38766",
   "metadata": {},
   "outputs": [
    {
     "data": {
      "text/plain": [
       "(0.00213644822675577-0.0653324731085987j)"
      ]
     },
     "execution_count": 10,
     "metadata": {},
     "output_type": "execute_result"
    }
   ],
   "source": [
    "cevs = readCEVs(\"/mnt/e/Jaime/b4_20x20Ov/Eig/L020x020_b04000i00001-HO.eig\")\n",
    "cevs[0]"
   ]
  },
  {
   "cell_type": "markdown",
   "id": "b163f07b",
   "metadata": {},
   "source": [
    "- compute determinant for quark mass 0.05:"
   ]
  },
  {
   "cell_type": "code",
   "execution_count": 11,
   "id": "3e1966ca",
   "metadata": {
    "scrolled": true
   },
   "outputs": [
    {
     "name": "stdout",
     "output_type": "stream",
     "text": [
      "(2.6583807559420576-1.992850329202156e-14j)\n"
     ]
    },
    {
     "data": {
      "text/plain": [
       "2.6583807559420576"
      ]
     },
     "execution_count": 11,
     "metadata": {},
     "output_type": "execute_result"
    }
   ],
   "source": [
    "detM(cevs, 0.05, 0.63, True)"
   ]
  },
  {
   "cell_type": "markdown",
   "id": "bf950b4a",
   "metadata": {},
   "source": [
    "- compute absolute value of topological charge:"
   ]
  },
  {
   "cell_type": "code",
   "execution_count": 12,
   "id": "f583bcc1",
   "metadata": {},
   "outputs": [
    {
     "data": {
      "text/plain": [
       "1"
      ]
     },
     "execution_count": 12,
     "metadata": {},
     "output_type": "execute_result"
    }
   ],
   "source": [
    "countZeros(cevs)"
   ]
  },
  {
   "cell_type": "code",
   "execution_count": 13,
   "id": "14702fba",
   "metadata": {},
   "outputs": [
    {
     "name": "stdout",
     "output_type": "stream",
     "text": [
      "(0.12887504928843335-3.924811864397526e-16j)\n"
     ]
    },
    {
     "data": {
      "text/plain": [
       "0.12887504928843335"
      ]
     },
     "execution_count": 13,
     "metadata": {},
     "output_type": "execute_result"
    }
   ],
   "source": [
    "sigma(cevs, 0.05, True)"
   ]
  },
  {
   "cell_type": "markdown",
   "id": "8b9af1e6",
   "metadata": {},
   "source": [
    "## Results"
   ]
  },
  {
   "cell_type": "markdown",
   "id": "dfc64cbe",
   "metadata": {},
   "source": [
    "- read complex eigenvalues of all configurations from an ensemble:"
   ]
  },
  {
   "cell_type": "code",
   "execution_count": 14,
   "id": "2af36ef6",
   "metadata": {},
   "outputs": [
    {
     "name": "stdout",
     "output_type": "stream",
     "text": [
      "CPU times: user 48 s, sys: 4.73 s, total: 52.8 s\n",
      "Wall time: 1min 45s\n"
     ]
    }
   ],
   "source": [
    "%%time\n",
    "allCEVs = readAllCEVs(\"/mnt/e/Jaime/b4_20x20Ov/eigFiles.list\")"
   ]
  },
  {
   "cell_type": "markdown",
   "id": "2eed1f7c",
   "metadata": {},
   "source": [
    "### Check $\\Sigma$ reweighting"
   ]
  },
  {
   "cell_type": "code",
   "execution_count": 15,
   "id": "8dc0a597",
   "metadata": {},
   "outputs": [],
   "source": [
    "def sigVqm(allCEVs, maxNf, qmMin, qmMax, qmStep):\n",
    "    qms = np.arange(qmMin, qmMax, qmStep)\n",
    "    sigqm = [[qms, []] for i in range(maxNf + 1)]\n",
    "    for qm in qms:\n",
    "        dets = detEnMax1(allCEVs, qm)\n",
    "        sigmas = sigmaEn(allCEVs, qm)\n",
    "        for Nf in range(maxNf + 1):\n",
    "            detNf = [d**Nf for d in dets]\n",
    "            sumdetNf = sum(detNf)\n",
    "            sigdetNf = [sigmas[i] * detNf[i] / sumdetNf for i in range(len(sigmas))]\n",
    "            sigqm[Nf][1].append(sum(sigdetNf))\n",
    "    return sigqm"
   ]
  },
  {
   "cell_type": "code",
   "execution_count": 16,
   "id": "d2ee792c",
   "metadata": {},
   "outputs": [
    {
     "name": "stdout",
     "output_type": "stream",
     "text": [
      "CPU times: user 13min 40s, sys: 95.4 ms, total: 13min 40s\n",
      "Wall time: 13min 40s\n"
     ]
    }
   ],
   "source": [
    "%%time\n",
    "sigqm = sigVqm(allCEVs, 2, 0.005, 0.151, 0.005)"
   ]
  },
  {
   "cell_type": "code",
   "execution_count": 17,
   "id": "dc2016ee",
   "metadata": {},
   "outputs": [
    {
     "data": {
      "image/png": "[encoded data removed]",
      "text/plain": [
       "<Figure size 576x432 with 1 Axes>"
      ]
     },
     "metadata": {
      "needs_background": "light"
     },
     "output_type": "display_data"
    }
   ],
   "source": [
    "fig, p = plt.subplots(figsize = (8, 6))\n",
    "p.set_xlabel(\"$m$\", fontsize = 12)\n",
    "p.set_ylabel(r\"$\\Sigma$\", fontsize = 14)\n",
    "p.set_xlim(0.0, 0.152)\n",
    "p.set_ylim(0.0, 0.27)\n",
    "p.set_xticks(np.arange(0, 0.152, 0.005), minor = True)\n",
    "p.set_yticks(np.arange(0, 0.27, 0.01), minor = True)\n",
    "\n",
    "p.scatter(sigqm[0][0], sigqm[0][1], color = \"red\")\n",
    "p.scatter(sigqm[1][0], sigqm[1][1], color = \"black\")\n",
    "p.scatter(sigqm[2][0], sigqm[2][1], color = \"blue\");"
   ]
  },
  {
   "cell_type": "markdown",
   "id": "ebf062e4",
   "metadata": {},
   "source": [
    "- correction for $\\beta$, i.e. $g = 1/\\sqrt{\\beta}$:"
   ]
  },
  {
   "cell_type": "code",
   "execution_count": 18,
   "id": "74251a54",
   "metadata": {},
   "outputs": [],
   "source": [
    "beta = 4.0\n",
    "g = 1.0 / np.sqrt(beta)\n",
    "gsigqm = [[[sigqm[j][k][i] / g for i in range(len(sigqm[j][k]))] for k in range(len(sigqm[j]))] for j in range(len(sigqm))]"
   ]
  },
  {
   "cell_type": "code",
   "execution_count": 19,
   "id": "2038c1c0",
   "metadata": {},
   "outputs": [
    {
     "data": {
      "image/png": "[encoded data removed]",
      "text/plain": [
       "<Figure size 576x432 with 1 Axes>"
      ]
     },
     "metadata": {
      "needs_background": "light"
     },
     "output_type": "display_data"
    }
   ],
   "source": [
    "fig, p = plt.subplots(figsize = (8, 6))\n",
    "p.set_xlabel(\"$m\\:/\\:g$\", fontsize = 12)\n",
    "p.set_ylabel(r\"$\\Sigma\\:/\\:g$\", fontsize = 14)\n",
    "p.set_xlim(0.0, 0.305)\n",
    "p.set_ylim(0.0, 0.38)\n",
    "p.set_xticks(np.arange(0, 0.305, 0.01), minor = True)\n",
    "p.set_yticks(np.arange(0, 0.38, 0.01), minor = True)\n",
    "\n",
    "p.scatter(gsigqm[0][0], gsigqm[0][1], color = \"red\", label = \"$N_f = 0$\")\n",
    "p.scatter(gsigqm[1][0], gsigqm[1][1], color = \"black\", label = \"$N_f = 1$\")\n",
    "p.scatter(gsigqm[2][0], gsigqm[2][1], color = \"blue\", label = \"$N_f = 2$\")\n",
    "p.legend(loc = \"lower right\", fontsize = 14);"
   ]
  },
  {
   "cell_type": "markdown",
   "id": "6e05580b",
   "metadata": {},
   "source": [
    "### $\\Sigma$ distributions"
   ]
  },
  {
   "cell_type": "markdown",
   "id": "3df1bab4",
   "metadata": {},
   "source": [
    "#### $\\Sigma$ distribution (quenched) / m = 0.05"
   ]
  },
  {
   "cell_type": "code",
   "execution_count": 20,
   "id": "1d60525a",
   "metadata": {},
   "outputs": [
    {
     "name": "stdout",
     "output_type": "stream",
     "text": [
      "CPU times: user 4.81 s, sys: 59 µs, total: 4.81 s\n",
      "Wall time: 4.8 s\n"
     ]
    }
   ],
   "source": [
    "%%time\n",
    "sigmas = sigmaEn(allCEVs, 0.05)"
   ]
  },
  {
   "cell_type": "code",
   "execution_count": 21,
   "id": "ebfbd851",
   "metadata": {},
   "outputs": [
    {
     "data": {
      "text/plain": [
       "0.13781632229894217"
      ]
     },
     "execution_count": 21,
     "metadata": {},
     "output_type": "execute_result"
    }
   ],
   "source": [
    "sum(sigmas) / len(sigmas) # average sigma (quenched)"
   ]
  },
  {
   "cell_type": "code",
   "execution_count": 22,
   "id": "b5a6ec8d",
   "metadata": {},
   "outputs": [
    {
     "data": {
      "text/plain": [
       "(0.05161850479558079, 0.3825240626525837)"
      ]
     },
     "execution_count": 22,
     "metadata": {},
     "output_type": "execute_result"
    }
   ],
   "source": [
    "(min(sigmas), max(sigmas))"
   ]
  },
  {
   "cell_type": "code",
   "execution_count": 23,
   "id": "ca05501d",
   "metadata": {},
   "outputs": [
    {
     "data": {
      "image/png": "[encoded data removed]",
      "text/plain": [
       "<Figure size 432x288 with 1 Axes>"
      ]
     },
     "metadata": {
      "needs_background": "light"
     },
     "output_type": "display_data"
    }
   ],
   "source": [
    "plt.hist(sigmas, bins = [r for r in np.arange(0.0, 0.4, 0.02)]);"
   ]
  },
  {
   "cell_type": "markdown",
   "id": "29f09030",
   "metadata": {},
   "source": [
    "#### $\\Sigma$ times determinant (1 flavor) per configuration distribution / m = 0.05"
   ]
  },
  {
   "cell_type": "code",
   "execution_count": 24,
   "id": "2056fff5",
   "metadata": {},
   "outputs": [
    {
     "name": "stdout",
     "output_type": "stream",
     "text": [
      "CPU times: user 3.12 s, sys: 46 µs, total: 3.12 s\n",
      "Wall time: 3.12 s\n"
     ]
    }
   ],
   "source": [
    "%%time\n",
    "dets = detEnMax1(allCEVs, 0.05)\n",
    "sumdet1 = sum(dets)"
   ]
  },
  {
   "cell_type": "code",
   "execution_count": 25,
   "id": "90b4ad34",
   "metadata": {
    "scrolled": true
   },
   "outputs": [
    {
     "data": {
      "image/png": "[encoded data removed]",
      "text/plain": [
       "<Figure size 432x288 with 1 Axes>"
      ]
     },
     "metadata": {
      "needs_background": "light"
     },
     "output_type": "display_data"
    }
   ],
   "source": [
    "plt.xscale('log')\n",
    "plt.hist(dets, bins = [10.0**r for r in np.arange(-5.0, 0, 0.2)]);"
   ]
  },
  {
   "cell_type": "code",
   "execution_count": 26,
   "id": "132919ed",
   "metadata": {},
   "outputs": [
    {
     "name": "stdout",
     "output_type": "stream",
     "text": [
      "sigma =  0.10531380923744617\n",
      "\n",
      "CPU times: user 1.89 ms, sys: 10 µs, total: 1.9 ms\n",
      "Wall time: 1.9 ms\n"
     ]
    }
   ],
   "source": [
    "%%time\n",
    "sigdet1 = [sigmas[i] * dets[i] / sumdet1 for i in range(len(sigmas))]\n",
    "print(\"sigma = \", sum(sigdet1))\n",
    "print()"
   ]
  },
  {
   "cell_type": "code",
   "execution_count": 27,
   "id": "75597900",
   "metadata": {},
   "outputs": [
    {
     "data": {
      "image/png": "[encoded data removed]",
      "text/plain": [
       "<Figure size 432x288 with 1 Axes>"
      ]
     },
     "metadata": {
      "needs_background": "light"
     },
     "output_type": "display_data"
    }
   ],
   "source": [
    "plt.plot(range(1, len(sigdet1) + 1), sigdet1);"
   ]
  },
  {
   "cell_type": "code",
   "execution_count": 28,
   "id": "f329cc8f",
   "metadata": {},
   "outputs": [
    {
     "data": {
      "image/png": "[encoded data removed]",
      "text/plain": [
       "<Figure size 432x288 with 1 Axes>"
      ]
     },
     "metadata": {
      "needs_background": "light"
     },
     "output_type": "display_data"
    }
   ],
   "source": [
    "sigdet1.sort(reverse = True)\n",
    "plt.plot(range(1, len(sigdet1) + 1), sigdet1);"
   ]
  },
  {
   "cell_type": "code",
   "execution_count": 29,
   "id": "a52a170b",
   "metadata": {},
   "outputs": [
    {
     "data": {
      "text/plain": [
       "(5.10535900242812e-09, 0.00012364615039179075)"
      ]
     },
     "execution_count": 29,
     "metadata": {},
     "output_type": "execute_result"
    }
   ],
   "source": [
    "(min(sigdet1), max(sigdet1))"
   ]
  },
  {
   "cell_type": "code",
   "execution_count": 30,
   "id": "33a6c99e",
   "metadata": {},
   "outputs": [
    {
     "data": {
      "image/png": "[encoded data removed]",
      "text/plain": [
       "<Figure size 432x288 with 1 Axes>"
      ]
     },
     "metadata": {
      "needs_background": "light"
     },
     "output_type": "display_data"
    }
   ],
   "source": [
    "plt.xscale('log')\n",
    "plt.hist(sigdet1, bins = [10.0**r for r in np.arange(-9.0, -3.5, 0.2)]);"
   ]
  },
  {
   "cell_type": "markdown",
   "id": "27f8be9c",
   "metadata": {},
   "source": [
    "#### $\\Sigma$ times squared determinant (2 flavors) per configuration distribution / m = 0.05"
   ]
  },
  {
   "cell_type": "code",
   "execution_count": 31,
   "id": "8ae1af45",
   "metadata": {},
   "outputs": [
    {
     "name": "stdout",
     "output_type": "stream",
     "text": [
      "CPU times: user 3.13 s, sys: 38 µs, total: 3.13 s\n",
      "Wall time: 3.13 s\n"
     ]
    }
   ],
   "source": [
    "%%time\n",
    "dets = detEnMax1(allCEVs, 0.05)\n",
    "det2 = [d**2 for d in dets]\n",
    "sumdet2 = sum(det2)"
   ]
  },
  {
   "cell_type": "code",
   "execution_count": 32,
   "id": "cd3f715b",
   "metadata": {},
   "outputs": [
    {
     "name": "stdout",
     "output_type": "stream",
     "text": [
      "sigma =  0.08698086336108671\n",
      "\n",
      "CPU times: user 4.61 s, sys: 0 ns, total: 4.61 s\n",
      "Wall time: 4.61 s\n"
     ]
    }
   ],
   "source": [
    "%%time\n",
    "sigmas = sigmaEn(allCEVs, 0.05)\n",
    "sigdet2 = [sigmas[i] * det2[i] / sumdet2 for i in range(len(sigmas))]\n",
    "print(\"sigma = \", sum(sigdet2))\n",
    "print()"
   ]
  },
  {
   "cell_type": "code",
   "execution_count": 33,
   "id": "3777ea13",
   "metadata": {},
   "outputs": [
    {
     "data": {
      "image/png": "[encoded data removed]",
      "text/plain": [
       "<Figure size 432x288 with 1 Axes>"
      ]
     },
     "metadata": {
      "needs_background": "light"
     },
     "output_type": "display_data"
    }
   ],
   "source": [
    "plt.plot(range(1, len(sigdet2) + 1), sigdet2);"
   ]
  },
  {
   "cell_type": "code",
   "execution_count": 34,
   "id": "13e7a404",
   "metadata": {},
   "outputs": [
    {
     "data": {
      "image/png": "[encoded data removed]",
      "text/plain": [
       "<Figure size 432x288 with 1 Axes>"
      ]
     },
     "metadata": {
      "needs_background": "light"
     },
     "output_type": "display_data"
    }
   ],
   "source": [
    "sigdet2.sort(reverse = True)\n",
    "plt.plot(range(1, len(sigdet2) + 1), sigdet2);"
   ]
  },
  {
   "cell_type": "code",
   "execution_count": 35,
   "id": "c4628916",
   "metadata": {},
   "outputs": [
    {
     "data": {
      "text/plain": [
       "(2.663528532107877e-13, 0.0010261970380362583)"
      ]
     },
     "execution_count": 35,
     "metadata": {},
     "output_type": "execute_result"
    }
   ],
   "source": [
    "(min(sigdet2), max(sigdet2))"
   ]
  },
  {
   "cell_type": "code",
   "execution_count": 36,
   "id": "e3d3aed6",
   "metadata": {},
   "outputs": [
    {
     "data": {
      "image/png": "[encoded data removed]",
      "text/plain": [
       "<Figure size 432x288 with 1 Axes>"
      ]
     },
     "metadata": {
      "needs_background": "light"
     },
     "output_type": "display_data"
    }
   ],
   "source": [
    "plt.xscale('log')\n",
    "plt.hist(sigdet2, bins = [10.0**r for r in np.arange(-13.0, -2.8, 0.2)]);"
   ]
  },
  {
   "cell_type": "markdown",
   "id": "d0abb095",
   "metadata": {},
   "source": [
    "### Cumulative plots"
   ]
  },
  {
   "cell_type": "code",
   "execution_count": 37,
   "id": "97494a5a",
   "metadata": {},
   "outputs": [],
   "source": [
    "def cumSigmaNf(sigmas, dets, Nf):\n",
    "    detNf = [d**Nf for d in dets]\n",
    "    sumdetNf = sum(detNf)\n",
    "    sigdetNf = [sigmas[i] * detNf[i] / sumdetNf for i in range(len(sigmas))]\n",
    "    sigmaNf = sum(sigdetNf)\n",
    "    sigdetNf.sort(reverse = True)\n",
    "    csigdetNf = [sum(sigdetNf[:i]) / sigmaNf for i in range(1, len(sigdetNf) + 1)]\n",
    "    return sigmaNf, csigdetNf "
   ]
  },
  {
   "cell_type": "code",
   "execution_count": 38,
   "id": "564a913b",
   "metadata": {},
   "outputs": [],
   "source": [
    "def cumSigma(allCEVs, qm, flavors):\n",
    "    fig, p = plt.subplots(figsize = (8, 5))  \n",
    "    print(\"Nf    sigma     50%   90%   99%\")\n",
    "    print(\"===============================\")\n",
    "    dets = detEnMax1(allCEVs, qm)\n",
    "    sigmas = sigmaEn(allCEVs, qm)\n",
    "    for flavor in flavors:\n",
    "        Nf, NfColor, NfLabel = flavor\n",
    "        sigmaNf, csNf = cumSigmaNf(sigmas, dets, Nf)\n",
    "        s50 = len([cs for cs in csNf if cs <= 0.50])\n",
    "        s90 = len([cs for cs in csNf if cs <= 0.90])\n",
    "        s99 = len([cs for cs in csNf if cs <= 0.99])\n",
    "        print(\"%2d  %9.7f %5d %5d %5d \" % (Nf, sigmaNf, s50, s90, s99))\n",
    "        p.plot(range(1, len(csNf) + 1), csNf, color = NfColor, label = NfLabel)\n",
    "    p.legend(loc = \"lower right\", fontsize = 14)"
   ]
  },
  {
   "cell_type": "markdown",
   "id": "022b7de5",
   "metadata": {},
   "source": [
    "#### m = 0.2"
   ]
  },
  {
   "cell_type": "code",
   "execution_count": 39,
   "id": "5686b263",
   "metadata": {
    "scrolled": false
   },
   "outputs": [
    {
     "name": "stdout",
     "output_type": "stream",
     "text": [
      "Nf    sigma     50%   90%   99%\n",
      "===============================\n",
      " 1  0.1593495  3058  7675  9579 \n",
      " 2  0.1570204  1627  5893  8830 \n",
      " 4  0.1536070   365  2584  6153 \n",
      " 6  0.1514763    91   910  3242 \n"
     ]
    },
    {
     "data": {
      "image/png": "[encoded data removed]",
      "text/plain": [
       "<Figure size 576x360 with 1 Axes>"
      ]
     },
     "metadata": {
      "needs_background": "light"
     },
     "output_type": "display_data"
    }
   ],
   "source": [
    "cumSigma(allCEVs, 0.2, [[1, \"black\", \"$N_f = 1$\"], [2, \"blue\", \"$N_f = 2$\"],\n",
    "    [4, \"green\", \"$N_f = 4$\"], [6, \"violet\", \"$N_f = 6$\"]])"
   ]
  },
  {
   "cell_type": "markdown",
   "id": "261489f8",
   "metadata": {},
   "source": [
    "#### m = 0.1"
   ]
  },
  {
   "cell_type": "code",
   "execution_count": 40,
   "id": "1e2bb005",
   "metadata": {},
   "outputs": [
    {
     "name": "stdout",
     "output_type": "stream",
     "text": [
      "Nf    sigma     50%   90%   99%\n",
      "===============================\n",
      " 1  0.1262986  2311  6828  9251 \n",
      " 2  0.1191389   806  4038  7529 \n",
      " 4  0.1099706    87   899  3132 \n",
      " 6  0.1039011    13   178   938 \n"
     ]
    },
    {
     "data": {
      "image/png": "[encoded data removed]",
      "text/plain": [
       "<Figure size 576x360 with 1 Axes>"
      ]
     },
     "metadata": {
      "needs_background": "light"
     },
     "output_type": "display_data"
    }
   ],
   "source": [
    "cumSigma(allCEVs, 0.1, [[1, \"black\", \"$N_f = 1$\"], [2, \"blue\", \"$N_f = 2$\"],\n",
    "    [4, \"green\", \"$N_f = 4$\"], [6, \"violet\", \"$N_f = 6$\"]])"
   ]
  },
  {
   "cell_type": "markdown",
   "id": "2b1d05b7",
   "metadata": {},
   "source": [
    "#### m = 0.05"
   ]
  },
  {
   "cell_type": "code",
   "execution_count": 41,
   "id": "b0947509",
   "metadata": {},
   "outputs": [
    {
     "name": "stdout",
     "output_type": "stream",
     "text": [
      "Nf    sigma     50%   90%   99%\n",
      "===============================\n",
      " 1  0.1053138  1789  5992  8791 \n",
      " 2  0.0869809   412  2611  5974 \n",
      " 4  0.0653109    16   275  1325 \n",
      " 6  0.0561419     1    23   203 \n"
     ]
    },
    {
     "data": {
      "image/png": "[encoded data removed]",
      "text/plain": [
       "<Figure size 576x360 with 1 Axes>"
      ]
     },
     "metadata": {
      "needs_background": "light"
     },
     "output_type": "display_data"
    }
   ],
   "source": [
    "cumSigma(allCEVs, 0.05, [[1, \"black\", \"$N_f = 1$\"], [2, \"blue\", \"$N_f = 2$\"],\n",
    "    [4, \"green\", \"$N_f = 4$\"], [6, \"violet\", \"$N_f = 6$\"]])"
   ]
  },
  {
   "cell_type": "markdown",
   "id": "40d93d78",
   "metadata": {},
   "source": [
    "#### m = 0.01"
   ]
  },
  {
   "cell_type": "code",
   "execution_count": 42,
   "id": "c095f058",
   "metadata": {},
   "outputs": [
    {
     "name": "stdout",
     "output_type": "stream",
     "text": [
      "Nf    sigma     50%   90%   99%\n",
      "===============================\n",
      " 1  0.0848037  1094  4497  7519 \n",
      " 2  0.0248797   223  1499  3796 \n",
      " 4  0.0126283     4    68   359 \n",
      " 6  0.0113806     0     8    58 \n"
     ]
    },
    {
     "data": {
      "image/png": "[encoded data removed]",
      "text/plain": [
       "<Figure size 576x360 with 1 Axes>"
      ]
     },
     "metadata": {
      "needs_background": "light"
     },
     "output_type": "display_data"
    }
   ],
   "source": [
    "cumSigma(allCEVs, 0.01, [[1, \"black\", \"$N_f = 1$\"], [2, \"blue\", \"$N_f = 2$\"],\n",
    "    [4, \"green\", \"$N_f = 4$\"], [6, \"violet\", \"$N_f = 6$\"]])"
   ]
  },
  {
   "cell_type": "markdown",
   "id": "78e234c0",
   "metadata": {},
   "source": [
    "*Hip, 2023-08-08*"
   ]
  }
 ],
 "metadata": {
  "kernelspec": {
   "display_name": "Python 3 (ipykernel)",
   "language": "python",
   "name": "python3"
  },
  "language_info": {
   "codemirror_mode": {
    "name": "ipython",
    "version": 3
   },
   "file_extension": ".py",
   "mimetype": "text/x-python",
   "name": "python",
   "nbconvert_exporter": "python",
   "pygments_lexer": "ipython3",
   "version": "3.10.12"
  }
 },
 "nbformat": 4,
 "nbformat_minor": 5
}
