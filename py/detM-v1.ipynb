{
 "cells": [
  {
   "cell_type": "markdown",
   "id": "bc56f1f0",
   "metadata": {},
   "source": [
    "# detM-v1"
   ]
  },
  {
   "cell_type": "markdown",
   "id": "ec45492a",
   "metadata": {},
   "source": [
    "- prepares histogram of the determinants of a massive overlap Dirac operator"
   ]
  },
  {
   "cell_type": "markdown",
   "id": "a97b4a21",
   "metadata": {},
   "source": [
    "- **disadvantage of the v1:** computes determinant for only one quark mass - necessary to read all eigenvalues again for another quark mass"
   ]
  },
  {
   "cell_type": "code",
   "execution_count": 1,
   "id": "270ac257",
   "metadata": {},
   "outputs": [],
   "source": [
    "import matplotlib.pyplot as plt\n",
    "import numpy as np"
   ]
  },
  {
   "cell_type": "markdown",
   "id": "2f38d0d7",
   "metadata": {},
   "source": [
    "###### How to read complex eigenvalues for one configuration"
   ]
  },
  {
   "cell_type": "code",
   "execution_count": 2,
   "id": "97d9e887",
   "metadata": {},
   "outputs": [],
   "source": [
    "evs = np.loadtxt(\"/mnt/e/Jaime/b4_20x20Ov/Eig/L020x020_b04000i00001-HO.eig\")"
   ]
  },
  {
   "cell_type": "code",
   "execution_count": 3,
   "id": "79ea736c",
   "metadata": {},
   "outputs": [
    {
     "data": {
      "text/plain": [
       "800"
      ]
     },
     "execution_count": 3,
     "metadata": {},
     "output_type": "execute_result"
    }
   ],
   "source": [
    "len(evs)"
   ]
  },
  {
   "cell_type": "code",
   "execution_count": 4,
   "id": "753188fa",
   "metadata": {},
   "outputs": [
    {
     "data": {
      "text/plain": [
       "dtype('float64')"
      ]
     },
     "execution_count": 4,
     "metadata": {},
     "output_type": "execute_result"
    }
   ],
   "source": [
    "evs.dtype"
   ]
  },
  {
   "cell_type": "code",
   "execution_count": 5,
   "id": "fce03334",
   "metadata": {},
   "outputs": [
    {
     "data": {
      "text/plain": [
       "array([ 0.00213645, -0.06533247])"
      ]
     },
     "execution_count": 5,
     "metadata": {},
     "output_type": "execute_result"
    }
   ],
   "source": [
    "evs[0]"
   ]
  },
  {
   "cell_type": "code",
   "execution_count": 6,
   "id": "45ab135a",
   "metadata": {},
   "outputs": [
    {
     "data": {
      "text/plain": [
       "(0.00213644822675577-0.0653324731085987j)"
      ]
     },
     "execution_count": 6,
     "metadata": {},
     "output_type": "execute_result"
    }
   ],
   "source": [
    "evs[0][0] + evs[0][1] * 1j"
   ]
  },
  {
   "cell_type": "code",
   "execution_count": 7,
   "id": "8c6a3d91",
   "metadata": {},
   "outputs": [],
   "source": [
    "cevs = np.array([np.complex128(ev[0] + ev[1] * 1j) for ev in evs])"
   ]
  },
  {
   "cell_type": "code",
   "execution_count": 8,
   "id": "bc8600fa",
   "metadata": {},
   "outputs": [
    {
     "data": {
      "text/plain": [
       "(0.00213644822675577-0.0653324731085987j)"
      ]
     },
     "execution_count": 8,
     "metadata": {},
     "output_type": "execute_result"
    }
   ],
   "source": [
    "cevs[0]"
   ]
  },
  {
   "cell_type": "markdown",
   "id": "ca231332",
   "metadata": {},
   "source": [
    "- all put together in function `readCEVs()`"
   ]
  },
  {
   "cell_type": "code",
   "execution_count": 9,
   "id": "934d3654",
   "metadata": {},
   "outputs": [],
   "source": [
    "def readCEVs(eigFile):\n",
    "    evs = np.loadtxt(eigFile)\n",
    "    return np.array([np.complex128(ev[0] + ev[1] * 1j) for ev in evs])"
   ]
  },
  {
   "cell_type": "code",
   "execution_count": 10,
   "id": "0fd38766",
   "metadata": {},
   "outputs": [],
   "source": [
    "cevs = readCEVs(\"/mnt/e/Jaime/b4_20x20Ov/Eig/L020x020_b04000i00001-HO.eig\")"
   ]
  },
  {
   "cell_type": "code",
   "execution_count": 11,
   "id": "5ed0eedb",
   "metadata": {},
   "outputs": [
    {
     "data": {
      "text/plain": [
       "(0.00213644822675577-0.0653324731085987j)"
      ]
     },
     "execution_count": 11,
     "metadata": {},
     "output_type": "execute_result"
    }
   ],
   "source": [
    "cevs[0]"
   ]
  },
  {
   "cell_type": "markdown",
   "id": "4c184f7a",
   "metadata": {},
   "source": [
    "###### Determinant of the massive overlap operator"
   ]
  },
  {
   "cell_type": "code",
   "execution_count": 12,
   "id": "4274872f",
   "metadata": {},
   "outputs": [],
   "source": [
    "def detm(cevs, qm, nmz, out):\n",
    "# cevs - complex eigenvalues\n",
    "# qm - quark mass\n",
    "# nmz - numerical normalization (about 0.63 is optimal)\n",
    "# out - print complex p if True\n",
    "    f = 1.0 - qm / 2.0\n",
    "    p = np.complex128(1 + 0j)\n",
    "    for i in range(len(cevs)):\n",
    "        p *= (f * cevs[i] + qm) * nmz\n",
    "    if out: print(p)\n",
    "    return p.real"
   ]
  },
  {
   "cell_type": "code",
   "execution_count": 13,
   "id": "3e1966ca",
   "metadata": {},
   "outputs": [
    {
     "name": "stdout",
     "output_type": "stream",
     "text": [
      "(2.6583807559420576-1.992850329202156e-14j)\n"
     ]
    },
    {
     "data": {
      "text/plain": [
       "2.6583807559420576"
      ]
     },
     "execution_count": 13,
     "metadata": {},
     "output_type": "execute_result"
    }
   ],
   "source": [
    "detm(cevs, 0.05, 0.63, True)"
   ]
  },
  {
   "cell_type": "markdown",
   "id": "82a04033",
   "metadata": {},
   "source": [
    "###### Normalized determinants of an ensemble (max = 1)"
   ]
  },
  {
   "cell_type": "code",
   "execution_count": 14,
   "id": "402c9c5e",
   "metadata": {},
   "outputs": [],
   "source": [
    "def detEnMax1(eigFilesList, qm):\n",
    "# determinants normalized to max is equal to one\n",
    "# eigFilesList - list of files with eigenvalues\n",
    "# qm - quark mass\n",
    "    f = open(eigFilesList, \"r\")\n",
    "    dets = []\n",
    "    for eigFileName in f:\n",
    "        dets.append(detm(readCEVs(eigFileName.strip()), qm, 0.63, False))\n",
    "    f.close()\n",
    "    dmax = max(dets)\n",
    "    return [d / dmax for d in dets]"
   ]
  },
  {
   "cell_type": "code",
   "execution_count": 15,
   "id": "57781c68",
   "metadata": {},
   "outputs": [
    {
     "name": "stdout",
     "output_type": "stream",
     "text": [
      "CPU times: user 51.5 s, sys: 5.12 s, total: 56.6 s\n",
      "Wall time: 1min 50s\n"
     ]
    }
   ],
   "source": [
    "%%time\n",
    "dets = detEnMax1(\"/mnt/e/Jaime/b4_20x20Ov/eigFiles.list\", 0.05)"
   ]
  },
  {
   "cell_type": "code",
   "execution_count": 16,
   "id": "1fa5832d",
   "metadata": {},
   "outputs": [
    {
     "data": {
      "text/plain": [
       "[0.01520670613357288,\n",
       " 0.019749360256504034,\n",
       " 0.009750188723213512,\n",
       " 0.024755490133428804,\n",
       " 0.008313437300582396,\n",
       " 0.001942756592798554,\n",
       " 0.005893719774442306,\n",
       " 0.018367616653706186,\n",
       " 0.00022440915512308182,\n",
       " 0.06696043871009695]"
      ]
     },
     "execution_count": 16,
     "metadata": {},
     "output_type": "execute_result"
    }
   ],
   "source": [
    "dets[:10]"
   ]
  },
  {
   "cell_type": "code",
   "execution_count": 17,
   "id": "fb363437",
   "metadata": {},
   "outputs": [
    {
     "data": {
      "text/plain": [
       "(array([1.000e+00, 3.000e+00, 1.000e+00, 1.000e+00, 1.000e+00, 4.000e+00,\n",
       "        1.400e+01, 1.300e+01, 3.700e+01, 3.200e+01, 5.900e+01, 1.170e+02,\n",
       "        1.850e+02, 3.310e+02, 4.800e+02, 6.100e+02, 8.960e+02, 1.154e+03,\n",
       "        1.392e+03, 1.426e+03, 1.304e+03, 9.060e+02, 6.070e+02, 2.990e+02,\n",
       "        9.800e+01, 2.600e+01]),\n",
       " array([3.98107171e-06, 6.30957344e-06, 1.00000000e-05, 1.58489319e-05,\n",
       "        2.51188643e-05, 3.98107171e-05, 6.30957344e-05, 1.00000000e-04,\n",
       "        1.58489319e-04, 2.51188643e-04, 3.98107171e-04, 6.30957344e-04,\n",
       "        1.00000000e-03, 1.58489319e-03, 2.51188643e-03, 3.98107171e-03,\n",
       "        6.30957344e-03, 1.00000000e-02, 1.58489319e-02, 2.51188643e-02,\n",
       "        3.98107171e-02, 6.30957344e-02, 1.00000000e-01, 1.58489319e-01,\n",
       "        2.51188643e-01, 3.98107171e-01, 6.30957344e-01]),\n",
       " <BarContainer object of 26 artists>)"
      ]
     },
     "execution_count": 17,
     "metadata": {},
     "output_type": "execute_result"
    },
    {
     "data": {
      "image/png": "[encoded data removed]",
      "text/plain": [
       "<Figure size 432x288 with 1 Axes>"
      ]
     },
     "metadata": {
      "needs_background": "light"
     },
     "output_type": "display_data"
    }
   ],
   "source": [
    "plt.xscale('log')\n",
    "plt.hist(dets, bins = [10.0**r for r in np.arange(-5.4, 0, 0.2)])"
   ]
  },
  {
   "cell_type": "markdown",
   "id": "8e00980a",
   "metadata": {},
   "source": [
    "###### Topology"
   ]
  },
  {
   "cell_type": "code",
   "execution_count": 18,
   "id": "b0627103",
   "metadata": {},
   "outputs": [],
   "source": [
    "def countZeros(cevs):\n",
    "    return len([cev for cev in cevs if abs(cev) < 1e-12 ])"
   ]
  },
  {
   "cell_type": "code",
   "execution_count": 19,
   "id": "f583bcc1",
   "metadata": {},
   "outputs": [
    {
     "data": {
      "text/plain": [
       "1"
      ]
     },
     "execution_count": 19,
     "metadata": {},
     "output_type": "execute_result"
    }
   ],
   "source": [
    "countZeros(cevs)"
   ]
  },
  {
   "cell_type": "code",
   "execution_count": 20,
   "id": "c0404d74",
   "metadata": {},
   "outputs": [],
   "source": [
    "def QdetEnMax1(eigFilesList, qm):\n",
    "# determinants normalized to max is equal to one with top. charge\n",
    "# eigFilesList - list of files with eigenvalues\n",
    "# qm - quark mass\n",
    "\n",
    "    f = open(eigFilesList, \"r\")\n",
    "    confs = []\n",
    "    for eigFileName in f:\n",
    "        cevs = readCEVs(eigFileName.strip())\n",
    "        confs.append([countZeros(cevs), detm(cevs, qm, 0.63, False)])\n",
    "    f.close()\n",
    "\n",
    "    # normalize the determinant to max is equal to one\n",
    "    [Qs, dets] = np.array(confs).transpose()\n",
    "    dmax = max(dets)\n",
    "    for i in range(len(confs)): confs[i][1] /= dmax\n",
    "\n",
    "    return confs"
   ]
  },
  {
   "cell_type": "code",
   "execution_count": 21,
   "id": "6230ba36",
   "metadata": {},
   "outputs": [
    {
     "name": "stdout",
     "output_type": "stream",
     "text": [
      "CPU times: user 52.5 s, sys: 4.89 s, total: 57.4 s\n",
      "Wall time: 1min 50s\n"
     ]
    }
   ],
   "source": [
    "%%time\n",
    "confs = QdetEnMax1(\"/mnt/e/Jaime/b4_20x20Ov/eigFiles.list\", 0.05)"
   ]
  },
  {
   "cell_type": "code",
   "execution_count": 22,
   "id": "5250b65d",
   "metadata": {},
   "outputs": [
    {
     "data": {
      "text/plain": [
       "[1, 0.01520670613357288]"
      ]
     },
     "execution_count": 22,
     "metadata": {},
     "output_type": "execute_result"
    }
   ],
   "source": [
    "confs[0]"
   ]
  },
  {
   "cell_type": "code",
   "execution_count": 23,
   "id": "a91dd3c9",
   "metadata": {},
   "outputs": [],
   "source": [
    "[Qs, dets] = np.array(confs).transpose()"
   ]
  },
  {
   "cell_type": "code",
   "execution_count": 24,
   "id": "29aee676",
   "metadata": {},
   "outputs": [
    {
     "data": {
      "text/plain": [
       "array([1., 2., 2., 1., 2., 4., 3., 1., 4., 1.])"
      ]
     },
     "execution_count": 24,
     "metadata": {},
     "output_type": "execute_result"
    }
   ],
   "source": [
    "Qs[:10]"
   ]
  },
  {
   "cell_type": "code",
   "execution_count": 25,
   "id": "6908f7b2",
   "metadata": {},
   "outputs": [
    {
     "data": {
      "text/plain": [
       "array([0.01520671, 0.01974936, 0.00975019, 0.02475549, 0.00831344,\n",
       "       0.00194276, 0.00589372, 0.01836762, 0.00022441, 0.06696044])"
      ]
     },
     "execution_count": 25,
     "metadata": {},
     "output_type": "execute_result"
    }
   ],
   "source": [
    "dets[:10]"
   ]
  },
  {
   "cell_type": "code",
   "execution_count": 26,
   "id": "aea9df05",
   "metadata": {},
   "outputs": [
    {
     "data": {
      "text/plain": [
       "7"
      ]
     },
     "execution_count": 26,
     "metadata": {},
     "output_type": "execute_result"
    }
   ],
   "source": [
    "Qmax = int(max(Qs))\n",
    "Qmax"
   ]
  },
  {
   "cell_type": "code",
   "execution_count": 27,
   "id": "0b829980",
   "metadata": {},
   "outputs": [
    {
     "data": {
      "text/plain": [
       "[2307, 3844, 2365, 1050, 335, 78, 17, 4]"
      ]
     },
     "execution_count": 27,
     "metadata": {},
     "output_type": "execute_result"
    }
   ],
   "source": [
    "# create Qmax + 1 empty lists\n",
    "Qdet = []\n",
    "for i in range(Qmax + 1): Qdet.append([])\n",
    "# add determinants according to topological charge\n",
    "for i in range(len(confs)):\n",
    "    Qdet[confs[i][0]].append(confs[i][1])\n",
    "# how many entries are in each topological sector\n",
    "[len(Qdet[i]) for i in range(Qmax + 1)]"
   ]
  },
  {
   "cell_type": "code",
   "execution_count": 28,
   "id": "da0b2fdb",
   "metadata": {},
   "outputs": [
    {
     "data": {
      "text/plain": [
       "(array([[0.000e+00, 0.000e+00, 0.000e+00, 0.000e+00, 0.000e+00, 0.000e+00,\n",
       "         0.000e+00, 0.000e+00, 0.000e+00, 0.000e+00, 3.000e+00, 7.000e+00,\n",
       "         8.000e+00, 2.700e+01, 4.600e+01, 6.500e+01, 1.240e+02, 1.820e+02,\n",
       "         2.910e+02, 3.360e+02, 3.760e+02, 3.260e+02, 2.560e+02, 1.590e+02,\n",
       "         7.200e+01, 2.600e+01],\n",
       "        [0.000e+00, 0.000e+00, 0.000e+00, 0.000e+00, 0.000e+00, 0.000e+00,\n",
       "         0.000e+00, 0.000e+00, 3.000e+00, 2.000e+00, 4.000e+00, 1.500e+01,\n",
       "         3.600e+01, 8.600e+01, 1.260e+02, 2.020e+02, 3.560e+02, 5.660e+02,\n",
       "         8.360e+02, 1.018e+03, 1.047e+03, 8.320e+02, 5.960e+02, 2.990e+02,\n",
       "         9.800e+01, 2.600e+01],\n",
       "        [0.000e+00, 0.000e+00, 0.000e+00, 0.000e+00, 0.000e+00, 1.000e+00,\n",
       "         0.000e+00, 1.000e+00, 5.000e+00, 6.000e+00, 1.300e+01, 2.900e+01,\n",
       "         6.800e+01, 1.540e+02, 2.500e+02, 3.800e+02, 6.610e+02, 9.900e+02,\n",
       "         1.304e+03, 1.416e+03, 1.299e+03, 9.060e+02, 6.070e+02, 2.990e+02,\n",
       "         9.800e+01, 2.600e+01],\n",
       "        [0.000e+00, 0.000e+00, 0.000e+00, 1.000e+00, 1.000e+00, 2.000e+00,\n",
       "         0.000e+00, 1.000e+00, 1.000e+01, 7.000e+00, 2.300e+01, 5.200e+01,\n",
       "         1.140e+02, 2.540e+02, 4.130e+02, 5.820e+02, 8.910e+02, 1.154e+03,\n",
       "         1.392e+03, 1.426e+03, 1.304e+03, 9.060e+02, 6.070e+02, 2.990e+02,\n",
       "         9.800e+01, 2.600e+01],\n",
       "        [0.000e+00, 0.000e+00, 0.000e+00, 1.000e+00, 1.000e+00, 3.000e+00,\n",
       "         2.000e+00, 4.000e+00, 1.600e+01, 2.100e+01, 4.300e+01, 9.800e+01,\n",
       "         1.810e+02, 3.300e+02, 4.800e+02, 6.100e+02, 8.960e+02, 1.154e+03,\n",
       "         1.392e+03, 1.426e+03, 1.304e+03, 9.060e+02, 6.070e+02, 2.990e+02,\n",
       "         9.800e+01, 2.600e+01],\n",
       "        [0.000e+00, 0.000e+00, 0.000e+00, 1.000e+00, 1.000e+00, 3.000e+00,\n",
       "         8.000e+00, 7.000e+00, 3.400e+01, 3.200e+01, 5.900e+01, 1.170e+02,\n",
       "         1.850e+02, 3.310e+02, 4.800e+02, 6.100e+02, 8.960e+02, 1.154e+03,\n",
       "         1.392e+03, 1.426e+03, 1.304e+03, 9.060e+02, 6.070e+02, 2.990e+02,\n",
       "         9.800e+01, 2.600e+01],\n",
       "        [1.000e+00, 0.000e+00, 0.000e+00, 1.000e+00, 1.000e+00, 4.000e+00,\n",
       "         1.400e+01, 1.300e+01, 3.700e+01, 3.200e+01, 5.900e+01, 1.170e+02,\n",
       "         1.850e+02, 3.310e+02, 4.800e+02, 6.100e+02, 8.960e+02, 1.154e+03,\n",
       "         1.392e+03, 1.426e+03, 1.304e+03, 9.060e+02, 6.070e+02, 2.990e+02,\n",
       "         9.800e+01, 2.600e+01],\n",
       "        [1.000e+00, 3.000e+00, 1.000e+00, 1.000e+00, 1.000e+00, 4.000e+00,\n",
       "         1.400e+01, 1.300e+01, 3.700e+01, 3.200e+01, 5.900e+01, 1.170e+02,\n",
       "         1.850e+02, 3.310e+02, 4.800e+02, 6.100e+02, 8.960e+02, 1.154e+03,\n",
       "         1.392e+03, 1.426e+03, 1.304e+03, 9.060e+02, 6.070e+02, 2.990e+02,\n",
       "         9.800e+01, 2.600e+01]]),\n",
       " array([3.98107171e-06, 6.30957344e-06, 1.00000000e-05, 1.58489319e-05,\n",
       "        2.51188643e-05, 3.98107171e-05, 6.30957344e-05, 1.00000000e-04,\n",
       "        1.58489319e-04, 2.51188643e-04, 3.98107171e-04, 6.30957344e-04,\n",
       "        1.00000000e-03, 1.58489319e-03, 2.51188643e-03, 3.98107171e-03,\n",
       "        6.30957344e-03, 1.00000000e-02, 1.58489319e-02, 2.51188643e-02,\n",
       "        3.98107171e-02, 6.30957344e-02, 1.00000000e-01, 1.58489319e-01,\n",
       "        2.51188643e-01, 3.98107171e-01, 6.30957344e-01]),\n",
       " <a list of 8 BarContainer objects>)"
      ]
     },
     "execution_count": 28,
     "metadata": {},
     "output_type": "execute_result"
    },
    {
     "data": {
      "image/png": "[encoded data removed]",
      "text/plain": [
       "<Figure size 432x288 with 1 Axes>"
      ]
     },
     "metadata": {
      "needs_background": "light"
     },
     "output_type": "display_data"
    }
   ],
   "source": [
    "plt.xscale('log')\n",
    "plt.hist([Qdet[i] for i in range(len(Qdet))], stacked = True, bins = [10.0**r for r in np.arange(-5.4, 0, 0.2)])"
   ]
  },
  {
   "cell_type": "code",
   "execution_count": 29,
   "id": "90227a70",
   "metadata": {},
   "outputs": [
    {
     "data": {
      "text/plain": [
       "(array([[  0.,   0.,   0.,   0.,   0.,   0.,   0.,   0.,   0.,   0.,   3.,\n",
       "           7.,   8.,  27.,  46.,  65., 124., 182., 291., 336., 376., 326.,\n",
       "         256., 159.,  72.,  26.],\n",
       "        [  0.,   0.,   0.,   0.,   0.,   1.,   2.,   3.,   6.,  14.,  20.,\n",
       "          46.,  67.,  76.,  67.,  28.,   5.,   0.,   0.,   0.,   0.,   0.,\n",
       "           0.,   0.,   0.,   0.]]),\n",
       " array([3.98107171e-06, 6.30957344e-06, 1.00000000e-05, 1.58489319e-05,\n",
       "        2.51188643e-05, 3.98107171e-05, 6.30957344e-05, 1.00000000e-04,\n",
       "        1.58489319e-04, 2.51188643e-04, 3.98107171e-04, 6.30957344e-04,\n",
       "        1.00000000e-03, 1.58489319e-03, 2.51188643e-03, 3.98107171e-03,\n",
       "        6.30957344e-03, 1.00000000e-02, 1.58489319e-02, 2.51188643e-02,\n",
       "        3.98107171e-02, 6.30957344e-02, 1.00000000e-01, 1.58489319e-01,\n",
       "        2.51188643e-01, 3.98107171e-01, 6.30957344e-01]),\n",
       " <a list of 2 BarContainer objects>)"
      ]
     },
     "execution_count": 29,
     "metadata": {},
     "output_type": "execute_result"
    },
    {
     "data": {
      "image/png": "[encoded data removed]",
      "text/plain": [
       "<Figure size 432x288 with 1 Axes>"
      ]
     },
     "metadata": {
      "needs_background": "light"
     },
     "output_type": "display_data"
    }
   ],
   "source": [
    "plt.xscale('log')\n",
    "plt.hist([Qdet[0], Qdet[4]], stacked = False, bins = [10.0**r for r in np.arange(-5.4, 0, 0.2)])"
   ]
  },
  {
   "cell_type": "markdown",
   "id": "d7576e4b",
   "metadata": {},
   "source": [
    "*Hip, 2023-08-04*"
   ]
  }
 ],
 "metadata": {
  "kernelspec": {
   "display_name": "Python 3 (ipykernel)",
   "language": "python",
   "name": "python3"
  },
  "language_info": {
   "codemirror_mode": {
    "name": "ipython",
    "version": 3
   },
   "file_extension": ".py",
   "mimetype": "text/x-python",
   "name": "python",
   "nbconvert_exporter": "python",
   "pygments_lexer": "ipython3",
   "version": "3.10.12"
  }
 },
 "nbformat": 4,
 "nbformat_minor": 5
}
