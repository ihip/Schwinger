{
 "cells": [
  {
   "cell_type": "markdown",
   "id": "7e446b81",
   "metadata": {},
   "source": [
    "# Reweighting"
   ]
  },
  {
   "cell_type": "markdown",
   "id": "abf1811b",
   "metadata": {},
   "source": [
    "*Properties of the reweighting procedure for observable $\\Sigma$*"
   ]
  },
  {
   "cell_type": "markdown",
   "id": "6de7225e",
   "metadata": {},
   "source": [
    "## Function definitions"
   ]
  },
  {
   "cell_type": "markdown",
   "id": "43486d34",
   "metadata": {},
   "source": [
    "- load the necessary modules:"
   ]
  },
  {
   "cell_type": "code",
   "execution_count": 1,
   "id": "270ac257",
   "metadata": {},
   "outputs": [],
   "source": [
    "import matplotlib.pyplot as plt\n",
    "import numpy as np"
   ]
  },
  {
   "cell_type": "markdown",
   "id": "2f38d0d7",
   "metadata": {},
   "source": [
    "- read complex eigenvalues of one configuration:"
   ]
  },
  {
   "cell_type": "code",
   "execution_count": 2,
   "id": "934d3654",
   "metadata": {},
   "outputs": [],
   "source": [
    "def readCEVs(eigFile):\n",
    "# eigFile - name of .eig file with eigenvalues\n",
    "    cevs = np.loadtxt(eigFile)\n",
    "    return np.array([np.complex128(cev[0] + cev[1] * 1j) for cev in cevs])"
   ]
  },
  {
   "cell_type": "markdown",
   "id": "94605561",
   "metadata": {},
   "source": [
    "- read complex eigenvalues of all configurations at once:"
   ]
  },
  {
   "cell_type": "code",
   "execution_count": 3,
   "id": "16e3e7f8",
   "metadata": {},
   "outputs": [],
   "source": [
    "def readAllCEVs(eigFilesList):\n",
    "# eigFilesList - list of .eig file names\n",
    "    f = open(eigFilesList, \"r\")\n",
    "    allCEVs = []\n",
    "    for eigFileName in f:\n",
    "        allCEVs.append(readCEVs(eigFileName.strip()))\n",
    "    f.close()\n",
    "    return allCEVs"
   ]
  },
  {
   "cell_type": "markdown",
   "id": "a22b2862",
   "metadata": {},
   "source": [
    "- absolute value of topological charge is equal to the number of zero modes:"
   ]
  },
  {
   "cell_type": "code",
   "execution_count": 4,
   "id": "b0627103",
   "metadata": {},
   "outputs": [],
   "source": [
    "def countZeros(cevs):\n",
    "# cevs - complex eigenvalues of one configuration\n",
    "    return len([cev for cev in cevs if abs(cev) < 1e-12])"
   ]
  },
  {
   "cell_type": "markdown",
   "id": "4c184f7a",
   "metadata": {},
   "source": [
    "- computes determinant of a massive overlap operator using eigenvalues:"
   ]
  },
  {
   "cell_type": "code",
   "execution_count": 5,
   "id": "4274872f",
   "metadata": {},
   "outputs": [],
   "source": [
    "def detM(cevs, qm, nmz, out):\n",
    "# cevs - complex eigenvalues\n",
    "# qm - quark mass\n",
    "# nmz - numerical normalization (about 0.63 is optimal)\n",
    "# out - print complex p if True\n",
    "    f = 1.0 - qm / 2.0\n",
    "    p = np.complex128(1 + 0j)\n",
    "    for i in range(len(cevs)):\n",
    "        p *= (f * cevs[i] + qm) * nmz\n",
    "    if out: print(p)\n",
    "    return p.real"
   ]
  },
  {
   "cell_type": "markdown",
   "id": "82a04033",
   "metadata": {},
   "source": [
    "- computes normalized determinants (max = 1) of an ensemble:"
   ]
  },
  {
   "cell_type": "code",
   "execution_count": 6,
   "id": "402c9c5e",
   "metadata": {},
   "outputs": [],
   "source": [
    "def detEnMax1(allCEVs, qm):\n",
    "# allCEVs - eigenvalues for all configurations\n",
    "# qm - quark mass\n",
    "    dets = [detM(cevs, qm, 0.63, False) for cevs in allCEVs]\n",
    "    dmax = max(dets)\n",
    "    return [d / dmax for d in dets]"
   ]
  },
  {
   "cell_type": "markdown",
   "id": "16a2c661",
   "metadata": {},
   "source": [
    "- sort determinants according to absolute topological charge:"
   ]
  },
  {
   "cell_type": "code",
   "execution_count": 7,
   "id": "c0404d74",
   "metadata": {},
   "outputs": [],
   "source": [
    "def QdetEnMax1(allCEVs, qm):\n",
    "# allCEVs - eigenvalues for all configurations\n",
    "# qm - quark mass\n",
    "\n",
    "    # compute determinants for all configuration\n",
    "    dets = [detM(cevs, qm, 0.63, False) for cevs in allCEVs]\n",
    "\n",
    "    # normalize determinants to max is equal to one\n",
    "    dmax = max(dets)\n",
    "    dets = [d / dmax for d in dets]\n",
    "\n",
    "    # compute absolute topological charge\n",
    "    Qs = [countZeros(cevs) for cevs in allCEVs]\n",
    "\n",
    "    # find maximal topological charge\n",
    "    Qmax = int(max(Qs))\n",
    "    print(\"Qmax =\", Qmax)\n",
    "\n",
    "    # create Qmax + 1 empty lists\n",
    "    Qdet = []\n",
    "    for i in range(Qmax + 1): Qdet.append([])\n",
    "\n",
    "    # add determinants according to topological charge\n",
    "    for i in range(len(dets)):\n",
    "        Qdet[Qs[i]].append(dets[i])\n",
    "        \n",
    "    # how many entries are in each topological sector\n",
    "    print([len(Qdet[i]) for i in range(Qmax + 1)])\n",
    "    print()\n",
    "    \n",
    "    return Qdet"
   ]
  },
  {
   "cell_type": "markdown",
   "id": "99109c79",
   "metadata": {},
   "source": [
    "- compute $\\Sigma$ from complex eigenvalues for a given quark mass `qm`:"
   ]
  },
  {
   "cell_type": "code",
   "execution_count": 8,
   "id": "ebc9cdd7",
   "metadata": {},
   "outputs": [],
   "source": [
    "def sigma(cevs, qm, out):\n",
    "# cevs - list of complex eigenvalues\n",
    "# qm - quark mass\n",
    "# out - if True sigma is printed\n",
    "    f = 1.0 - qm / 2.0\n",
    "    s = np.complex128(0.0 + 0.0j) # sum\n",
    "    for i in range(len(cevs)):\n",
    "        s += (1.0 - 0.5 * cevs[i]) / (f * cevs[i] + qm)\n",
    "    # len(cevs) is 2 * L^2 because of 2 spinor components\n",
    "    sig = s / (len(cevs) * 0.5) # division by L^2\n",
    "    if out: print(sig) # imaginary part should be near zero \n",
    "    return sig.real"
   ]
  },
  {
   "cell_type": "markdown",
   "id": "d18157fe",
   "metadata": {},
   "source": [
    "- compute $\\Sigma$ for a given quark mass `qm` for all configurations:"
   ]
  },
  {
   "cell_type": "code",
   "execution_count": 9,
   "id": "56a0e13c",
   "metadata": {},
   "outputs": [],
   "source": [
    "def sigmaEn(allCEVs, qm):\n",
    "# allCEVs - eigenvalues for all configurations\n",
    "# qm - quark mass\n",
    "    sigmas = [sigma(cevs, qm, False) for cevs in allCEVs]\n",
    "    return sigmas"
   ]
  },
  {
   "cell_type": "markdown",
   "id": "3f72bdaa",
   "metadata": {},
   "source": [
    "## Examples"
   ]
  },
  {
   "cell_type": "markdown",
   "id": "37302916",
   "metadata": {},
   "source": [
    "- read complex eigenvalues of one configuration:"
   ]
  },
  {
   "cell_type": "code",
   "execution_count": 10,
   "id": "0fd38766",
   "metadata": {},
   "outputs": [
    {
     "data": {
      "text/plain": [
       "(2.61181149955481e-16-4.57389018940462e-16j)"
      ]
     },
     "execution_count": 10,
     "metadata": {},
     "output_type": "execute_result"
    }
   ],
   "source": [
    "cevs = readCEVs(\"/mnt/e/Jaime/b5_24x24Ov/L024x024_b05000i00001-HO.eig\")\n",
    "cevs[0]"
   ]
  },
  {
   "cell_type": "markdown",
   "id": "b163f07b",
   "metadata": {},
   "source": [
    "- compute determinant for quark mass 0.05:"
   ]
  },
  {
   "cell_type": "code",
   "execution_count": 11,
   "id": "3e1966ca",
   "metadata": {
    "scrolled": true
   },
   "outputs": [
    {
     "name": "stdout",
     "output_type": "stream",
     "text": [
      "(61.94225469173407-4.331646152877511e-12j)\n"
     ]
    },
    {
     "data": {
      "text/plain": [
       "61.94225469173407"
      ]
     },
     "execution_count": 11,
     "metadata": {},
     "output_type": "execute_result"
    }
   ],
   "source": [
    "detM(cevs, 0.05, 0.63, True)"
   ]
  },
  {
   "cell_type": "markdown",
   "id": "bf950b4a",
   "metadata": {},
   "source": [
    "- compute absolute value of topological charge:"
   ]
  },
  {
   "cell_type": "code",
   "execution_count": 12,
   "id": "f583bcc1",
   "metadata": {},
   "outputs": [
    {
     "data": {
      "text/plain": [
       "1"
      ]
     },
     "execution_count": 12,
     "metadata": {},
     "output_type": "execute_result"
    }
   ],
   "source": [
    "countZeros(cevs)"
   ]
  },
  {
   "cell_type": "code",
   "execution_count": 13,
   "id": "14702fba",
   "metadata": {},
   "outputs": [
    {
     "name": "stdout",
     "output_type": "stream",
     "text": [
      "(0.1079138023563277+9.574709852127543e-17j)\n"
     ]
    },
    {
     "data": {
      "text/plain": [
       "0.1079138023563277"
      ]
     },
     "execution_count": 13,
     "metadata": {},
     "output_type": "execute_result"
    }
   ],
   "source": [
    "sigma(cevs, 0.05, True)"
   ]
  },
  {
   "cell_type": "markdown",
   "id": "8b9af1e6",
   "metadata": {},
   "source": [
    "## Results"
   ]
  },
  {
   "cell_type": "markdown",
   "id": "dfc64cbe",
   "metadata": {},
   "source": [
    "- read complex eigenvalues of all configurations from an ensemble:"
   ]
  },
  {
   "cell_type": "code",
   "execution_count": 14,
   "id": "2af36ef6",
   "metadata": {},
   "outputs": [
    {
     "name": "stdout",
     "output_type": "stream",
     "text": [
      "CPU times: user 3min 23s, sys: 5.14 s, total: 3min 28s\n",
      "Wall time: 9min 6s\n"
     ]
    }
   ],
   "source": [
    "%%time\n",
    "# set appropriate beta!\n",
    "beta = 5.0\n",
    "allCEVs = readAllCEVs(\"/mnt/e/Jaime/b5_24x24Ov.eigFilesList\")"
   ]
  },
  {
   "cell_type": "markdown",
   "id": "2eed1f7c",
   "metadata": {},
   "source": [
    "### Check $\\Sigma$ reweighting"
   ]
  },
  {
   "cell_type": "code",
   "execution_count": 15,
   "id": "8dc0a597",
   "metadata": {},
   "outputs": [],
   "source": [
    "def sigVqm(allCEVs, maxNf, qmMin, qmMax, qmStep):\n",
    "    qms = np.arange(qmMin, qmMax, qmStep)\n",
    "    sigqm = [[qms, []] for i in range(maxNf + 1)]\n",
    "    for qm in qms:\n",
    "        dets = detEnMax1(allCEVs, qm)\n",
    "        sigmas = sigmaEn(allCEVs, qm)\n",
    "        for Nf in range(maxNf + 1):\n",
    "            detNf = [d**Nf for d in dets]\n",
    "            sumdetNf = sum(detNf)\n",
    "            sigdetNf = [sigmas[i] * detNf[i] / sumdetNf for i in range(len(sigmas))]\n",
    "            sigqm[Nf][1].append(sum(sigdetNf))\n",
    "    return sigqm"
   ]
  },
  {
   "cell_type": "code",
   "execution_count": 16,
   "id": "d2ee792c",
   "metadata": {},
   "outputs": [
    {
     "name": "stdout",
     "output_type": "stream",
     "text": [
      "CPU times: user 56min 48s, sys: 88.8 ms, total: 56min 48s\n",
      "Wall time: 56min 48s\n"
     ]
    }
   ],
   "source": [
    "%%time\n",
    "sigqm = sigVqm(allCEVs, 2, 0.005, 0.151, 0.005)"
   ]
  },
  {
   "cell_type": "code",
   "execution_count": 17,
   "id": "dc2016ee",
   "metadata": {},
   "outputs": [
    {
     "data": {
      "image/png": "[encoded data removed]",
      "text/plain": [
       "<Figure size 576x432 with 1 Axes>"
      ]
     },
     "metadata": {
      "needs_background": "light"
     },
     "output_type": "display_data"
    }
   ],
   "source": [
    "fig, p = plt.subplots(figsize = (8, 6))\n",
    "p.set_xlabel(\"$m$\", fontsize = 12)\n",
    "p.set_ylabel(r\"$\\Sigma$\", fontsize = 14)\n",
    "p.set_xlim(0.0, 0.152)\n",
    "p.set_ylim(0.0, 0.27)\n",
    "p.set_xticks(np.arange(0, 0.152, 0.005), minor = True)\n",
    "p.set_yticks(np.arange(0, 0.27, 0.01), minor = True)\n",
    "\n",
    "p.scatter(sigqm[0][0], sigqm[0][1], color = \"green\")\n",
    "p.scatter(sigqm[1][0], sigqm[1][1], color = \"black\")\n",
    "p.scatter(sigqm[2][0], sigqm[2][1], color = \"blue\");"
   ]
  },
  {
   "cell_type": "markdown",
   "id": "ebf062e4",
   "metadata": {},
   "source": [
    "- correction for $\\beta$, i.e. $g = 1/\\sqrt{\\beta}$:"
   ]
  },
  {
   "cell_type": "code",
   "execution_count": 18,
   "id": "74251a54",
   "metadata": {},
   "outputs": [
    {
     "name": "stdout",
     "output_type": "stream",
     "text": [
      "CPU times: user 44 µs, sys: 0 ns, total: 44 µs\n",
      "Wall time: 46.3 µs\n"
     ]
    }
   ],
   "source": [
    "%%time\n",
    "# beta should have been set when reading CEVS\n",
    "g = 1.0 / np.sqrt(beta)\n",
    "gsigqm = [[[sigqm[j][k][i] / g for i in range(len(sigqm[j][k]))] for k in range(len(sigqm[j]))] for j in range(len(sigqm))]"
   ]
  },
  {
   "cell_type": "code",
   "execution_count": 19,
   "id": "2038c1c0",
   "metadata": {},
   "outputs": [
    {
     "data": {
      "image/png": "[encoded data removed]",
      "text/plain": [
       "<Figure size 576x432 with 1 Axes>"
      ]
     },
     "metadata": {
      "needs_background": "light"
     },
     "output_type": "display_data"
    }
   ],
   "source": [
    "fig, p = plt.subplots(figsize = (8, 6))\n",
    "p.set_xlabel(\"$m\\:/\\:g$\", fontsize = 12)\n",
    "p.set_ylabel(r\"$\\Sigma\\:/\\:g$\", fontsize = 14)\n",
    "p.set_xlim(0.0, 0.305)\n",
    "p.set_ylim(0.0, 0.38)\n",
    "p.set_xticks(np.arange(0, 0.305, 0.01), minor = True)\n",
    "p.set_yticks(np.arange(0, 0.38, 0.01), minor = True)\n",
    "\n",
    "p.scatter(gsigqm[0][0], gsigqm[0][1], s = 20, c = \"green\", label = \"$N_f = 0$\")\n",
    "p.scatter(gsigqm[1][0], gsigqm[1][1], s = 20, c = \"black\", label = \"$N_f = 1$\")\n",
    "p.scatter(gsigqm[2][0], gsigqm[2][1], s = 20, c = \"blue\", label = \"$N_f = 2$\")\n",
    "p.plot(0.0, 0.1599, marker = \"o\", color = \"red\", markersize = 5)\n",
    "\n",
    "p.annotate(\"analytic\", xy = (0, 0.1599), xytext=(0.025, 0.22), fontsize = 14,\n",
    "    arrowprops=dict(facecolor = \"white\", edgecolor = \"black\", shrink = 0.08))\n",
    "p.legend(loc = \"lower right\", fontsize = 14);"
   ]
  },
  {
   "cell_type": "markdown",
   "id": "a4b72f63",
   "metadata": {},
   "source": [
    "- plot above can be directly compared to Fig. 1 in Duerr/Hoelbling Phys. Rev. D 69 (2004) 034503\n",
    "- analytic result for $\\Sigma/g$ for one flavor is 0.1599"
   ]
  },
  {
   "cell_type": "markdown",
   "id": "6e05580b",
   "metadata": {},
   "source": [
    "### $\\Sigma$ distributions"
   ]
  },
  {
   "cell_type": "markdown",
   "id": "3df1bab4",
   "metadata": {},
   "source": [
    "#### $\\Sigma$ distribution (quenched) / m = 0.05"
   ]
  },
  {
   "cell_type": "code",
   "execution_count": 20,
   "id": "1d60525a",
   "metadata": {},
   "outputs": [
    {
     "name": "stdout",
     "output_type": "stream",
     "text": [
      "CPU times: user 20.3 s, sys: 0 ns, total: 20.3 s\n",
      "Wall time: 20.3 s\n"
     ]
    }
   ],
   "source": [
    "%%time\n",
    "sigmas = sigmaEn(allCEVs, 0.05)"
   ]
  },
  {
   "cell_type": "code",
   "execution_count": 21,
   "id": "ebfbd851",
   "metadata": {},
   "outputs": [
    {
     "data": {
      "text/plain": [
       "0.12010020024213586"
      ]
     },
     "execution_count": 21,
     "metadata": {},
     "output_type": "execute_result"
    }
   ],
   "source": [
    "sum(sigmas) / len(sigmas) # average sigma (quenched)"
   ]
  },
  {
   "cell_type": "code",
   "execution_count": 22,
   "id": "b5a6ec8d",
   "metadata": {},
   "outputs": [
    {
     "data": {
      "text/plain": [
       "(0.05617696253891176, 0.30895322962655547)"
      ]
     },
     "execution_count": 22,
     "metadata": {},
     "output_type": "execute_result"
    }
   ],
   "source": [
    "(min(sigmas), max(sigmas))"
   ]
  },
  {
   "cell_type": "code",
   "execution_count": 23,
   "id": "ca05501d",
   "metadata": {},
   "outputs": [
    {
     "data": {
      "image/png": "[encoded data removed]",
      "text/plain": [
       "<Figure size 432x288 with 1 Axes>"
      ]
     },
     "metadata": {
      "needs_background": "light"
     },
     "output_type": "display_data"
    }
   ],
   "source": [
    "plt.hist(sigmas, bins = [r for r in np.arange(0.0, 0.4, 0.02)]);"
   ]
  },
  {
   "cell_type": "markdown",
   "id": "29f09030",
   "metadata": {},
   "source": [
    "#### $\\Sigma$ times determinant (1 flavor) per configuration distribution / m = 0.05"
   ]
  },
  {
   "cell_type": "code",
   "execution_count": 24,
   "id": "2056fff5",
   "metadata": {},
   "outputs": [
    {
     "name": "stdout",
     "output_type": "stream",
     "text": [
      "CPU times: user 14.1 s, sys: 0 ns, total: 14.1 s\n",
      "Wall time: 14.1 s\n"
     ]
    }
   ],
   "source": [
    "%%time\n",
    "dets = detEnMax1(allCEVs, 0.05)\n",
    "sumdet1 = sum(dets)"
   ]
  },
  {
   "cell_type": "code",
   "execution_count": 25,
   "id": "90b4ad34",
   "metadata": {
    "scrolled": true
   },
   "outputs": [
    {
     "data": {
      "image/png": "[encoded data removed]",
      "text/plain": [
       "<Figure size 432x288 with 1 Axes>"
      ]
     },
     "metadata": {
      "needs_background": "light"
     },
     "output_type": "display_data"
    }
   ],
   "source": [
    "plt.xscale('log')\n",
    "plt.hist(dets, bins = [10.0**r for r in np.arange(-5.0, 0, 0.2)]);"
   ]
  },
  {
   "cell_type": "code",
   "execution_count": 26,
   "id": "132919ed",
   "metadata": {},
   "outputs": [
    {
     "name": "stdout",
     "output_type": "stream",
     "text": [
      "sigma =  0.09845967884548093\n",
      "\n",
      "CPU times: user 5.1 ms, sys: 0 ns, total: 5.1 ms\n",
      "Wall time: 5.09 ms\n"
     ]
    }
   ],
   "source": [
    "%%time\n",
    "sigdet1 = [sigmas[i] * dets[i] / sumdet1 for i in range(len(sigmas))]\n",
    "print(\"sigma = \", sum(sigdet1))\n",
    "print()"
   ]
  },
  {
   "cell_type": "code",
   "execution_count": 27,
   "id": "75597900",
   "metadata": {},
   "outputs": [
    {
     "data": {
      "image/png": "[encoded data removed]",
      "text/plain": [
       "<Figure size 432x288 with 1 Axes>"
      ]
     },
     "metadata": {
      "needs_background": "light"
     },
     "output_type": "display_data"
    }
   ],
   "source": [
    "plt.plot(range(1, len(sigdet1) + 1), sigdet1);"
   ]
  },
  {
   "cell_type": "code",
   "execution_count": 28,
   "id": "f329cc8f",
   "metadata": {},
   "outputs": [
    {
     "data": {
      "image/png": "[encoded data removed]",
      "text/plain": [
       "<Figure size 432x288 with 1 Axes>"
      ]
     },
     "metadata": {
      "needs_background": "light"
     },
     "output_type": "display_data"
    }
   ],
   "source": [
    "sigdet1.sort(reverse = True)\n",
    "plt.plot(range(1, len(sigdet1) + 1), sigdet1);"
   ]
  },
  {
   "cell_type": "code",
   "execution_count": 29,
   "id": "a52a170b",
   "metadata": {},
   "outputs": [
    {
     "data": {
      "text/plain": [
       "(1.9962018364120877e-09, 4.815062170536316e-05)"
      ]
     },
     "execution_count": 29,
     "metadata": {},
     "output_type": "execute_result"
    }
   ],
   "source": [
    "(min(sigdet1), max(sigdet1))"
   ]
  },
  {
   "cell_type": "code",
   "execution_count": 30,
   "id": "33a6c99e",
   "metadata": {},
   "outputs": [
    {
     "data": {
      "image/png": "[encoded data removed]",
      "text/plain": [
       "<Figure size 432x288 with 1 Axes>"
      ]
     },
     "metadata": {
      "needs_background": "light"
     },
     "output_type": "display_data"
    }
   ],
   "source": [
    "plt.xscale('log')\n",
    "plt.hist(sigdet1, bins = [10.0**r for r in np.arange(-9.0, -3.5, 0.2)]);"
   ]
  },
  {
   "cell_type": "markdown",
   "id": "27f8be9c",
   "metadata": {},
   "source": [
    "#### $\\Sigma$ times squared determinant (2 flavors) per configuration distribution / m = 0.05"
   ]
  },
  {
   "cell_type": "code",
   "execution_count": 31,
   "id": "8ae1af45",
   "metadata": {},
   "outputs": [
    {
     "name": "stdout",
     "output_type": "stream",
     "text": [
      "CPU times: user 14.2 s, sys: 10 ms, total: 14.2 s\n",
      "Wall time: 14.2 s\n"
     ]
    }
   ],
   "source": [
    "%%time\n",
    "dets = detEnMax1(allCEVs, 0.05)\n",
    "det2 = [d**2 for d in dets]\n",
    "sumdet2 = sum(det2)"
   ]
  },
  {
   "cell_type": "code",
   "execution_count": 32,
   "id": "cd3f715b",
   "metadata": {},
   "outputs": [
    {
     "name": "stdout",
     "output_type": "stream",
     "text": [
      "sigma =  0.08656744246838888\n",
      "\n",
      "CPU times: user 19.7 s, sys: 9.99 ms, total: 19.7 s\n",
      "Wall time: 19.7 s\n"
     ]
    }
   ],
   "source": [
    "%%time\n",
    "sigmas = sigmaEn(allCEVs, 0.05)\n",
    "sigdet2 = [sigmas[i] * det2[i] / sumdet2 for i in range(len(sigmas))]\n",
    "print(\"sigma = \", sum(sigdet2))\n",
    "print()"
   ]
  },
  {
   "cell_type": "code",
   "execution_count": 33,
   "id": "3777ea13",
   "metadata": {},
   "outputs": [
    {
     "data": {
      "image/png": "[encoded data removed]",
      "text/plain": [
       "<Figure size 432x288 with 1 Axes>"
      ]
     },
     "metadata": {
      "needs_background": "light"
     },
     "output_type": "display_data"
    }
   ],
   "source": [
    "plt.plot(range(1, len(sigdet2) + 1), sigdet2);"
   ]
  },
  {
   "cell_type": "code",
   "execution_count": 34,
   "id": "13e7a404",
   "metadata": {},
   "outputs": [
    {
     "data": {
      "image/png": "[encoded data removed]",
      "text/plain": [
       "<Figure size 432x288 with 1 Axes>"
      ]
     },
     "metadata": {
      "needs_background": "light"
     },
     "output_type": "display_data"
    }
   ],
   "source": [
    "sigdet2.sort(reverse = True)\n",
    "plt.plot(range(1, len(sigdet2) + 1), sigdet2);"
   ]
  },
  {
   "cell_type": "code",
   "execution_count": 35,
   "id": "c4628916",
   "metadata": {},
   "outputs": [
    {
     "data": {
      "text/plain": [
       "(1.8259259638623377e-13, 0.0003163924280529878)"
      ]
     },
     "execution_count": 35,
     "metadata": {},
     "output_type": "execute_result"
    }
   ],
   "source": [
    "(min(sigdet2), max(sigdet2))"
   ]
  },
  {
   "cell_type": "code",
   "execution_count": 36,
   "id": "e3d3aed6",
   "metadata": {},
   "outputs": [
    {
     "data": {
      "image/png": "[encoded data removed]",
      "text/plain": [
       "<Figure size 432x288 with 1 Axes>"
      ]
     },
     "metadata": {
      "needs_background": "light"
     },
     "output_type": "display_data"
    }
   ],
   "source": [
    "plt.xscale('log')\n",
    "plt.hist(sigdet2, bins = [10.0**r for r in np.arange(-13.0, -2.8, 0.2)]);"
   ]
  },
  {
   "cell_type": "markdown",
   "id": "d0abb095",
   "metadata": {},
   "source": [
    "### Cumulative plots"
   ]
  },
  {
   "cell_type": "code",
   "execution_count": 37,
   "id": "97494a5a",
   "metadata": {},
   "outputs": [],
   "source": [
    "def cumSigmaNf(sigmas, dets, Nf):\n",
    "    detNf = [d**Nf for d in dets]\n",
    "    sumdetNf = sum(detNf)\n",
    "    sigdetNf = [sigmas[i] * detNf[i] / sumdetNf for i in range(len(sigmas))]\n",
    "    sigmaNf = sum(sigdetNf)\n",
    "    sigdetNf.sort(reverse = True)\n",
    "    csigdetNf = [sum(sigdetNf[:i]) / sigmaNf for i in range(1, len(sigdetNf) + 1)]\n",
    "    return sigmaNf, csigdetNf "
   ]
  },
  {
   "cell_type": "code",
   "execution_count": 38,
   "id": "564a913b",
   "metadata": {},
   "outputs": [],
   "source": [
    "def cumSigma(allCEVs, qm, flavors):\n",
    "    fig, p = plt.subplots(figsize = (8, 5))  \n",
    "    print(\"Nf    sigma     50%   90%   99%\")\n",
    "    print(\"===============================\")\n",
    "    dets = detEnMax1(allCEVs, qm)\n",
    "    sigmas = sigmaEn(allCEVs, qm)\n",
    "    for flavor in flavors:\n",
    "        Nf, NfColor, NfLabel = flavor\n",
    "        sigmaNf, csNf = cumSigmaNf(sigmas, dets, Nf)\n",
    "        s50 = len([cs for cs in csNf if cs <= 0.50])\n",
    "        s90 = len([cs for cs in csNf if cs <= 0.90])\n",
    "        s99 = len([cs for cs in csNf if cs <= 0.99])\n",
    "        print(\"%2d  %9.7f %5d %5d %5d \" % (Nf, sigmaNf, s50, s90, s99))\n",
    "        p.plot(range(1, len(csNf) + 1), csNf, color = NfColor, label = NfLabel)\n",
    "    p.legend(loc = \"lower right\", fontsize = 14)"
   ]
  },
  {
   "cell_type": "code",
   "execution_count": 39,
   "id": "2837ef36",
   "metadata": {},
   "outputs": [],
   "source": [
    "flavors = [[1, \"black\", \"$N_f = 1$\"], [2, \"blue\", \"$N_f = 2$\"],\n",
    "    [4, \"green\", \"$N_f = 4$\"], [6, \"violet\", \"$N_f = 6$\"]]"
   ]
  },
  {
   "cell_type": "markdown",
   "id": "022b7de5",
   "metadata": {},
   "source": [
    "#### m = 0.2"
   ]
  },
  {
   "cell_type": "code",
   "execution_count": 40,
   "id": "5686b263",
   "metadata": {
    "scrolled": false
   },
   "outputs": [
    {
     "name": "stdout",
     "output_type": "stream",
     "text": [
      "Nf    sigma     50%   90%   99%\n",
      "===============================\n",
      " 1  0.1551150  9375 23256 28836 \n",
      " 2  0.1535875  5198 18139 26833 \n",
      " 4  0.1512156  1288  8534 19262 \n",
      " 6  0.1493832   234  3090 10626 \n"
     ]
    },
    {
     "data": {
      "image/png": "[encoded data removed]",
      "text/plain": [
       "<Figure size 576x360 with 1 Axes>"
      ]
     },
     "metadata": {
      "needs_background": "light"
     },
     "output_type": "display_data"
    }
   ],
   "source": [
    "cumSigma(allCEVs, 0.2, flavors)"
   ]
  },
  {
   "cell_type": "markdown",
   "id": "261489f8",
   "metadata": {},
   "source": [
    "#### m = 0.1"
   ]
  },
  {
   "cell_type": "code",
   "execution_count": 41,
   "id": "1e2bb005",
   "metadata": {},
   "outputs": [
    {
     "name": "stdout",
     "output_type": "stream",
     "text": [
      "Nf    sigma     50%   90%   99%\n",
      "===============================\n",
      " 1  0.1202486  7006 20564 27861 \n",
      " 2  0.1153858  2569 12419 22898 \n",
      " 4  0.1091456   238  2885  9958 \n",
      " 6  0.1058304    20   454  2818 \n"
     ]
    },
    {
     "data": {
      "image/png": "[encoded data removed]",
      "text/plain": [
       "<Figure size 576x360 with 1 Axes>"
      ]
     },
     "metadata": {
      "needs_background": "light"
     },
     "output_type": "display_data"
    }
   ],
   "source": [
    "cumSigma(allCEVs, 0.1, flavors)"
   ]
  },
  {
   "cell_type": "markdown",
   "id": "2b1d05b7",
   "metadata": {},
   "source": [
    "#### m = 0.05"
   ]
  },
  {
   "cell_type": "code",
   "execution_count": 42,
   "id": "b0947509",
   "metadata": {},
   "outputs": [
    {
     "name": "stdout",
     "output_type": "stream",
     "text": [
      "Nf    sigma     50%   90%   99%\n",
      "===============================\n",
      " 1  0.0984597  5257 17779 26418 \n",
      " 2  0.0865674  1241  7900 17880 \n",
      " 4  0.0744143    66   920  4371 \n",
      " 6  0.0690184     6   125   780 \n"
     ]
    },
    {
     "data": {
      "image/png": "[encoded data removed]",
      "text/plain": [
       "<Figure size 576x360 with 1 Axes>"
      ]
     },
     "metadata": {
      "needs_background": "light"
     },
     "output_type": "display_data"
    }
   ],
   "source": [
    "cumSigma(allCEVs, 0.05, flavors)"
   ]
  },
  {
   "cell_type": "markdown",
   "id": "40d93d78",
   "metadata": {},
   "source": [
    "#### m = 0.01"
   ]
  },
  {
   "cell_type": "code",
   "execution_count": 43,
   "id": "c095f058",
   "metadata": {
    "scrolled": false
   },
   "outputs": [
    {
     "name": "stdout",
     "output_type": "stream",
     "text": [
      "Nf    sigma     50%   90%   99%\n",
      "===============================\n",
      " 1  0.0785254  3126 13041 22383 \n",
      " 2  0.0295785   564  4024 10600 \n",
      " 4  0.0147634    13   207  1116 \n",
      " 6  0.0130972     1    28   160 \n"
     ]
    },
    {
     "data": {
      "image/png": "[encoded data removed]",
      "text/plain": [
       "<Figure size 576x360 with 1 Axes>"
      ]
     },
     "metadata": {
      "needs_background": "light"
     },
     "output_type": "display_data"
    }
   ],
   "source": [
    "cumSigma(allCEVs, 0.01, flavors)"
   ]
  },
  {
   "cell_type": "markdown",
   "id": "6c6fa0d5",
   "metadata": {},
   "source": [
    "#### m = 0.001"
   ]
  },
  {
   "cell_type": "code",
   "execution_count": 44,
   "id": "3c57bca5",
   "metadata": {
    "scrolled": false
   },
   "outputs": [
    {
     "name": "stdout",
     "output_type": "stream",
     "text": [
      "Nf    sigma     50%   90%   99%\n",
      "===============================\n",
      " 1  0.0737777  1747  6973 16207 \n",
      " 2  0.0031155   531  3743  9131 \n",
      " 4  0.0014397    12   164   715 \n",
      " 6  0.0013106     1    25   145 \n"
     ]
    },
    {
     "data": {
      "image/png": "[encoded data removed]",
      "text/plain": [
       "<Figure size 576x360 with 1 Axes>"
      ]
     },
     "metadata": {
      "needs_background": "light"
     },
     "output_type": "display_data"
    }
   ],
   "source": [
    "cumSigma(allCEVs, 0.001, flavors)"
   ]
  },
  {
   "cell_type": "code",
   "execution_count": 45,
   "id": "1a4077b3",
   "metadata": {},
   "outputs": [],
   "source": [
    "def cumSigmaVqm(allCEVs, qmMin, qmMax, qmStep, flavors, perc):\n",
    "    maxNf = max([flavor[0] for flavor in flavors])\n",
    "    sperc = [[] for i in range(maxNf + 1)]\n",
    "    qms = np.arange(qmMin, qmMax, qmStep)\n",
    "    for qm in qms:\n",
    "        dets = detEnMax1(allCEVs, qm)\n",
    "        sigmas = sigmaEn(allCEVs, qm)\n",
    "        for flavor in flavors:\n",
    "            Nf = flavor[0]\n",
    "            sigmaNf, csNf = cumSigmaNf(sigmas, dets, Nf)\n",
    "            sperc[Nf].append(len([cs for cs in csNf if cs <= perc]))\n",
    "            print(\"%4.2f  %2d  %9.7f  %5d\" % (qm, Nf, sigmaNf, sperc[Nf][-1]))\n",
    "        print()\n",
    "    fig, p = plt.subplots(figsize = (8, 5))\n",
    "    for flavor in flavors:\n",
    "        Nf, NfColor, NfLabel = flavor\n",
    "        p.plot(qms, sperc[Nf], color = NfColor, label = NfLabel)\n",
    "    p.set_xlim(0, None)\n",
    "    p.set_ylim(0, None)\n",
    "    p.legend(loc = \"lower right\", fontsize = 14)"
   ]
  },
  {
   "cell_type": "code",
   "execution_count": 46,
   "id": "35d87300",
   "metadata": {},
   "outputs": [
    {
     "name": "stdout",
     "output_type": "stream",
     "text": [
      "0.02   1  0.0837081  24164\n",
      "0.02   2  0.0521237  12711\n",
      "0.02   4  0.0311114   1764\n",
      "0.02   6  0.0264049    226\n",
      "\n",
      "0.04   1  0.0936846  25890\n",
      "0.04   2  0.0782169  16383\n",
      "0.04   4  0.0628671   3387\n",
      "0.04   6  0.0556825    556\n",
      "\n",
      "0.06   1  0.1030911  26832\n",
      "0.06   2  0.0935602  19187\n",
      "0.06   4  0.0834504   5420\n",
      "0.06   6  0.0793630   1055\n",
      "\n",
      "0.08   1  0.1119348  27440\n",
      "0.08   2  0.1053270  21305\n",
      "0.08   4  0.0975673   7641\n",
      "0.08   6  0.0941571   1800\n",
      "\n",
      "0.10   1  0.1202486  27861\n",
      "0.10   2  0.1153858  22898\n",
      "0.10   4  0.1091456   9958\n",
      "0.10   6  0.1058304   2818\n",
      "\n",
      "0.12   1  0.1280702  28167\n",
      "0.12   2  0.1243618  24120\n",
      "0.12   4  0.1192894  12167\n",
      "0.12   6  0.1161787   4090\n",
      "\n",
      "0.14   1  0.1354360  28399\n",
      "0.14   2  0.1325376  25061\n",
      "0.14   4  0.1283890  14253\n",
      "0.14   6  0.1255856   5567\n",
      "\n",
      "0.16   1  0.1423791  28578\n",
      "0.16   2  0.1400711  25797\n",
      "0.16   4  0.1366549  16135\n",
      "0.16   6  0.1341933   7215\n",
      "\n",
      "0.18   1  0.1489297  28720\n",
      "0.18   2  0.1470639  26374\n",
      "0.18   4  0.1442288  17795\n",
      "0.18   6  0.1420984   8917\n",
      "\n",
      "0.20   1  0.1551150  28836\n",
      "0.20   2  0.1535875  26833\n",
      "0.20   4  0.1512156  19262\n",
      "0.20   6  0.1493832  10626\n",
      "\n",
      "0.22   1  0.1609597  28931\n",
      "0.22   2  0.1596952  27205\n",
      "0.22   4  0.1576953  20550\n",
      "0.22   6  0.1561206  12285\n",
      "\n",
      "0.24   1  0.1664861  29010\n",
      "0.24   2  0.1654293  27509\n",
      "0.24   4  0.1637303  21660\n",
      "0.24   6  0.1623739  13867\n",
      "\n",
      "0.26   1  0.1717145  29076\n",
      "0.26   2  0.1708238  27759\n",
      "0.26   4  0.1693703  22611\n",
      "0.26   6  0.1681972  15340\n",
      "\n",
      "0.28   1  0.1766638  29133\n",
      "0.28   2  0.1759071  27969\n",
      "0.28   4  0.1746557  23431\n",
      "0.28   6  0.1736363  16687\n",
      "\n",
      "0.30   1  0.1813509  29181\n",
      "0.30   2  0.1807037  28147\n",
      "0.30   4  0.1796200  24127\n",
      "0.30   6  0.1787296  17929\n",
      "\n",
      "CPU times: user 47min 7s, sys: 210 ms, total: 47min 7s\n",
      "Wall time: 47min 7s\n"
     ]
    },
    {
     "data": {
      "image/png": "[encoded data removed]",
      "text/plain": [
       "<Figure size 576x360 with 1 Axes>"
      ]
     },
     "metadata": {
      "needs_background": "light"
     },
     "output_type": "display_data"
    }
   ],
   "source": [
    "%%time\n",
    "cumSigmaVqm(allCEVs, 0.02, 0.301, 0.02, flavors, 0.99)"
   ]
  },
  {
   "cell_type": "code",
   "execution_count": 47,
   "id": "692a4694",
   "metadata": {
    "scrolled": false
   },
   "outputs": [
    {
     "name": "stdout",
     "output_type": "stream",
     "text": [
      "0.00   1  0.0737777  16207\n",
      "0.00   2  0.0031155   9131\n",
      "0.00   4  0.0014397    715\n",
      "0.00   6  0.0013106    145\n",
      "\n",
      "0.01   1  0.0764231  21028\n",
      "0.01   2  0.0183396   9730\n",
      "0.01   4  0.0087197    900\n",
      "0.01   6  0.0078600    149\n",
      "\n",
      "0.01   1  0.0790486  22636\n",
      "0.01   2  0.0322047  10821\n",
      "0.01   4  0.0163175   1175\n",
      "0.01   6  0.0144085    164\n",
      "\n",
      "0.02   1  0.0816489  23603\n",
      "0.02   2  0.0440953  11894\n",
      "0.02   4  0.0243726   1493\n",
      "0.02   6  0.0210106    191\n",
      "\n",
      "0.02   1  0.0842199  24287\n",
      "0.02   2  0.0539385  12913\n",
      "0.02   4  0.0328222   1833\n",
      "0.02   6  0.0277779    238\n",
      "\n",
      "0.03   1  0.0867589  24824\n",
      "0.03   2  0.0620015  13901\n",
      "0.03   4  0.0413889   2197\n",
      "0.03   6  0.0348296    305\n",
      "\n",
      "0.03   1  0.0892641  25267\n",
      "0.03   2  0.0686645  14841\n",
      "0.03   4  0.0496767   2590\n",
      "0.03   6  0.0421975    381\n",
      "\n",
      "0.04   1  0.0917342  25635\n",
      "0.04   2  0.0742828  15722\n",
      "0.04   4  0.0573324   3023\n",
      "0.04   6  0.0497369    475\n",
      "\n",
      "0.04   1  0.0941686  25950\n",
      "0.04   2  0.0791376  16541\n",
      "0.04   4  0.0641649   3482\n",
      "0.04   6  0.0571320    577\n",
      "\n",
      "0.05   1  0.0965670  26223\n",
      "0.05   2  0.0834339  17305\n",
      "0.05   4  0.0701587   3971\n",
      "0.05   6  0.0640266    686\n",
      "\n",
      "0.05   1  0.0989293  26464\n",
      "0.05   2  0.0873161  18020\n",
      "0.05   4  0.0754125   4472\n",
      "0.05   6  0.0701869    805\n",
      "\n",
      "0.06   1  0.1012556  26677\n",
      "0.06   2  0.0908842  18686\n",
      "0.06   4  0.0800669   4993\n",
      "0.06   6  0.0755652    939\n",
      "\n",
      "0.06   1  0.1035464  26869\n",
      "0.06   2  0.0942081  19308\n",
      "0.06   4  0.0842570   5528\n",
      "0.06   6  0.0802517   1086\n",
      "\n",
      "0.07   1  0.1058020  27041\n",
      "0.07   2  0.0973370  19889\n",
      "0.07   4  0.0880931   6076\n",
      "0.07   6  0.0843916   1252\n",
      "\n",
      "0.07   1  0.1080229  27196\n",
      "0.07   2  0.1003062  20429\n",
      "0.07   4  0.0916578   6628\n",
      "0.07   6  0.0881251   1434\n",
      "\n",
      "0.08   1  0.1102096  27337\n",
      "0.08   2  0.1031417  20931\n",
      "0.08   4  0.0950100   7187\n",
      "0.08   6  0.0915638   1632\n",
      "\n",
      "0.08   1  0.1123628  27465\n",
      "0.08   2  0.1058629  21396\n",
      "0.08   4  0.0981914   7755\n",
      "0.08   6  0.0947876   1844\n",
      "\n",
      "0.09   1  0.1144829  27583\n",
      "0.09   2  0.1084845  21829\n",
      "0.09   4  0.1012312   8332\n",
      "0.09   6  0.0978506   2076\n",
      "\n",
      "0.09   1  0.1165706  27690\n",
      "0.09   2  0.1110183  22234\n",
      "0.09   4  0.1041501   8913\n",
      "0.09   6  0.1007885   2329\n",
      "\n",
      "0.10   1  0.1186264  27789\n",
      "0.10   2  0.1134734  22613\n",
      "0.10   4  0.1069633   9497\n",
      "0.10   6  0.1036245   2597\n",
      "\n",
      "0.10   1  0.1206511  27879\n",
      "0.10   2  0.1158572  22966\n",
      "0.10   4  0.1096823  10073\n",
      "0.10   6  0.1063740   2875\n",
      "\n",
      "0.11   1  0.1226451  27963\n",
      "0.11   2  0.1181758  23297\n",
      "0.11   4  0.1123157  10637\n",
      "0.11   6  0.1090471   3174\n",
      "\n",
      "0.11   1  0.1246090  28040\n",
      "0.11   2  0.1204344  23607\n",
      "0.11   4  0.1148706  11192\n",
      "0.11   6  0.1116510   3490\n",
      "\n",
      "0.12   1  0.1265435  28113\n",
      "0.12   2  0.1226372  23899\n",
      "0.12   4  0.1173528  11735\n",
      "0.12   6  0.1141907   3819\n",
      "\n",
      "0.12   1  0.1284491  28180\n",
      "0.12   2  0.1247880  24173\n",
      "0.12   4  0.1197670  12274\n",
      "0.12   6  0.1166699   4159\n",
      "\n",
      "0.13   1  0.1303262  28243\n",
      "0.13   2  0.1268899  24429\n",
      "0.13   4  0.1221175  12806\n",
      "0.13   6  0.1190915   4512\n",
      "\n",
      "0.13   1  0.1321756  28302\n",
      "0.13   2  0.1289457  24668\n",
      "0.13   4  0.1244078  13333\n",
      "0.13   6  0.1214581   4879\n",
      "\n",
      "0.14   1  0.1339976  28357\n",
      "0.14   2  0.1309578  24892\n",
      "0.14   4  0.1266413  13849\n",
      "0.14   6  0.1237717   5260\n",
      "\n",
      "0.14   1  0.1357929  28409\n",
      "0.14   2  0.1329285  25102\n",
      "0.14   4  0.1288208  14352\n",
      "0.14   6  0.1260341   5646\n",
      "\n",
      "0.15   1  0.1375618  28457\n",
      "0.15   2  0.1348597  25301\n",
      "0.15   4  0.1309490  14841\n",
      "0.15   6  0.1282470   6047\n",
      "\n",
      "0.15   1  0.1393050  28502\n",
      "0.15   2  0.1367531  25487\n",
      "0.15   4  0.1330283  15315\n",
      "0.15   6  0.1304121   6457\n",
      "\n",
      "0.16   1  0.1410228  28545\n",
      "0.16   2  0.1386104  25664\n",
      "0.16   4  0.1350609  15776\n",
      "0.16   6  0.1325308   6875\n",
      "\n",
      "0.16   1  0.1427157  28586\n",
      "0.16   2  0.1404329  25830\n",
      "0.16   4  0.1370490  16223\n",
      "0.16   6  0.1346045   7299\n",
      "\n",
      "0.17   1  0.1443842  28624\n",
      "0.17   2  0.1422220  25985\n",
      "0.17   4  0.1389944  16656\n",
      "0.17   6  0.1366347   7724\n",
      "\n",
      "0.17   1  0.1460287  28660\n",
      "0.17   2  0.1439790  26131\n",
      "0.17   4  0.1408988  17075\n",
      "0.17   6  0.1386225   8150\n",
      "\n",
      "0.18   1  0.1476496  28694\n",
      "0.18   2  0.1457049  26269\n",
      "0.18   4  0.1427639  17480\n",
      "0.18   6  0.1405695   8575\n",
      "\n",
      "0.18   1  0.1492474  28727\n",
      "0.18   2  0.1474007  26399\n",
      "0.18   4  0.1445914  17873\n",
      "0.18   6  0.1424767   9002\n",
      "\n",
      "0.19   1  0.1508225  28758\n",
      "0.19   2  0.1490675  26522\n",
      "0.19   4  0.1463825  18255\n",
      "0.19   6  0.1443455   9429\n",
      "\n",
      "0.19   1  0.1523752  28787\n",
      "0.19   2  0.1507062  26639\n",
      "0.19   4  0.1481387  18625\n",
      "0.19   6  0.1461769   9856\n",
      "\n",
      "0.20   1  0.1539060  28815\n",
      "0.20   2  0.1523175  26749\n",
      "0.20   4  0.1498611  18983\n",
      "0.20   6  0.1479722  10285\n",
      "\n",
      "0.20   1  0.1554152  28841\n",
      "0.20   2  0.1539023  26853\n",
      "0.20   4  0.1515511  19331\n",
      "0.20   6  0.1497325  10710\n",
      "\n",
      "0.21   1  0.1569031  28866\n",
      "0.21   2  0.1554614  26952\n",
      "0.21   4  0.1532097  19667\n",
      "0.21   6  0.1514588  11129\n",
      "\n",
      "0.21   1  0.1583703  28890\n",
      "0.21   2  0.1569953  27047\n",
      "0.21   4  0.1548379  19993\n",
      "0.21   6  0.1531522  11546\n",
      "\n",
      "0.22   1  0.1598169  28913\n",
      "0.22   2  0.1585048  27136\n",
      "0.22   4  0.1564367  20307\n",
      "0.22   6  0.1548137  11958\n",
      "\n",
      "0.22   1  0.1612434  28935\n",
      "0.22   2  0.1599905  27221\n",
      "0.22   4  0.1580071  20609\n",
      "0.22   6  0.1564442  12366\n",
      "\n",
      "0.23   1  0.1626501  28956\n",
      "0.23   2  0.1614530  27303\n",
      "0.23   4  0.1595500  20901\n",
      "0.23   6  0.1580447  12770\n",
      "\n",
      "0.23   1  0.1640372  28976\n",
      "0.23   2  0.1628929  27380\n",
      "0.23   4  0.1610661  21182\n",
      "0.23   6  0.1596161  13168\n",
      "\n",
      "0.24   1  0.1654052  28995\n",
      "0.24   2  0.1643107  27453\n",
      "0.24   4  0.1625563  21452\n",
      "0.24   6  0.1611592  13559\n",
      "\n",
      "0.24   1  0.1667544  29013\n",
      "0.24   2  0.1657068  27522\n",
      "0.24   4  0.1640213  21711\n",
      "0.24   6  0.1626748  13944\n",
      "\n",
      "0.25   1  0.1680850  29031\n",
      "0.25   2  0.1670819  27589\n",
      "0.25   4  0.1654617  21960\n",
      "0.25   6  0.1641638  14322\n",
      "\n",
      "0.25   1  0.1693974  29048\n",
      "0.25   2  0.1684363  27652\n",
      "0.25   4  0.1668784  22200\n",
      "0.25   6  0.1656268  14691\n",
      "\n",
      "0.26   1  0.1706918  29064\n",
      "0.26   2  0.1697706  27712\n",
      "0.26   4  0.1682718  22432\n",
      "0.26   6  0.1670646  15054\n",
      "\n",
      "0.26   1  0.1719685  29079\n",
      "0.26   2  0.1710851  27770\n",
      "0.26   4  0.1696427  22655\n",
      "0.26   6  0.1684780  15410\n",
      "\n",
      "0.27   1  0.1732278  29094\n",
      "0.27   2  0.1723803  27826\n",
      "0.27   4  0.1709915  22869\n",
      "0.27   6  0.1698674  15758\n",
      "\n",
      "0.27   1  0.1744701  29108\n",
      "0.27   2  0.1736565  27879\n",
      "0.27   4  0.1723189  23076\n",
      "0.27   6  0.1712337  16097\n",
      "\n",
      "0.28   1  0.1756954  29122\n",
      "0.28   2  0.1749141  27930\n",
      "0.28   4  0.1736253  23276\n",
      "0.28   6  0.1725773  16427\n",
      "\n",
      "0.28   1  0.1769042  29135\n",
      "0.28   2  0.1761536  27979\n",
      "0.28   4  0.1749113  23468\n",
      "0.28   6  0.1738989  16751\n",
      "\n",
      "0.29   1  0.1780967  29148\n",
      "0.29   2  0.1773752  28026\n",
      "0.29   4  0.1761774  23652\n",
      "0.29   6  0.1751990  17070\n",
      "\n",
      "0.29   1  0.1792731  29160\n",
      "0.29   2  0.1785793  28071\n",
      "0.29   4  0.1774239  23829\n",
      "0.29   6  0.1764782  17383\n",
      "\n",
      "0.30   1  0.1804337  29172\n",
      "0.30   2  0.1797663  28114\n",
      "0.30   4  0.1786514  23997\n",
      "0.30   6  0.1777370  17689\n",
      "\n",
      "0.30   1  0.1815787  29183\n",
      "0.30   2  0.1809364  28155\n",
      "0.30   4  0.1798603  24159\n",
      "0.30   6  0.1789757  17989\n",
      "\n",
      "CPU times: user 3h 12min 41s, sys: 612 ms, total: 3h 12min 42s\n",
      "Wall time: 7h 22min 18s\n"
     ]
    },
    {
     "data": {
      "image/png": "[encoded data removed]",
      "text/plain": [
       "<Figure size 576x360 with 1 Axes>"
      ]
     },
     "metadata": {
      "needs_background": "light"
     },
     "output_type": "display_data"
    }
   ],
   "source": [
    "%%time\n",
    "cumSigmaVqm(allCEVs, 0.001, 0.302, 0.005, flavors, 0.99)"
   ]
  },
  {
   "cell_type": "code",
   "execution_count": 48,
   "id": "8f21fb3c",
   "metadata": {},
   "outputs": [
    {
     "name": "stdout",
     "output_type": "stream",
     "text": [
      "0.00   1  0.0737777  16207\n",
      "0.00   2  0.0031155   9131\n",
      "0.00   4  0.0014397    715\n",
      "0.00   6  0.0013106    145\n",
      "\n",
      "0.00   1  0.0743080  18296\n",
      "0.00   2  0.0062206   9182\n",
      "0.00   4  0.0028819    736\n",
      "0.00   6  0.0026211    146\n",
      "\n",
      "0.00   1  0.0748378  19337\n",
      "0.00   2  0.0093050   9267\n",
      "0.00   4  0.0043287    767\n",
      "0.00   6  0.0039314    146\n",
      "\n",
      "0.00   1  0.0753670  20033\n",
      "0.00   2  0.0123591   9388\n",
      "0.00   4  0.0057825    807\n",
      "0.00   6  0.0052413    147\n",
      "\n",
      "0.01   1  0.0758954  20573\n",
      "0.01   2  0.0153735   9544\n",
      "0.01   4  0.0072455    853\n",
      "0.01   6  0.0065508    147\n",
      "\n",
      "0.01   1  0.0764231  21028\n",
      "0.01   2  0.0183396   9730\n",
      "0.01   4  0.0087197    900\n",
      "0.01   6  0.0078600    149\n",
      "\n",
      "0.01   1  0.0769500  21427\n",
      "0.01   2  0.0212495   9935\n",
      "0.01   4  0.0102070    949\n",
      "0.01   6  0.0091689    151\n",
      "\n",
      "0.01   1  0.0774761  21782\n",
      "0.01   2  0.0240965  10153\n",
      "0.01   4  0.0117092   1004\n",
      "0.01   6  0.0104779    154\n",
      "\n",
      "0.01   1  0.0780012  22100\n",
      "0.01   2  0.0268744  10376\n",
      "0.01   4  0.0132275   1060\n",
      "0.01   6  0.0117872    157\n",
      "\n",
      "0.01   1  0.0785254  22383\n",
      "0.01   2  0.0295785  10600\n",
      "0.01   4  0.0147634   1116\n",
      "0.01   6  0.0130972    160\n",
      "\n",
      "CPU times: user 31min 18s, sys: 99.8 ms, total: 31min 19s\n",
      "Wall time: 31min 19s\n"
     ]
    },
    {
     "data": {
      "image/png": "[encoded data removed]",
      "text/plain": [
       "<Figure size 576x360 with 1 Axes>"
      ]
     },
     "metadata": {
      "needs_background": "light"
     },
     "output_type": "display_data"
    }
   ],
   "source": [
    "%%time\n",
    "cumSigmaVqm(allCEVs, 0.001, 0.011, 0.001, flavors, 0.99)"
   ]
  },
  {
   "cell_type": "markdown",
   "id": "9e2abe9f",
   "metadata": {},
   "source": [
    "## Topology"
   ]
  },
  {
   "cell_type": "markdown",
   "id": "916dc00e",
   "metadata": {},
   "source": [
    "- topological charge of the first $n$ configurations which contribute most to the final value of $\\Sigma$:"
   ]
  },
  {
   "cell_type": "code",
   "execution_count": 49,
   "id": "3c5c4b4d",
   "metadata": {},
   "outputs": [],
   "source": [
    "# key function for sorting: uses value of element[3]\n",
    "def element3(element):\n",
    "    return element[3]\n",
    "\n",
    "def Q_first_n(allCEVs, qm, Nf, first_n):\n",
    "# allCEVs - eigenvalues for all configurations\n",
    "# qm - quark mass\n",
    "# Nf - number of flavors\n",
    "# first_n - first n configurations of the sorted list\n",
    "\n",
    "    # compute Qs, dets and sigmas for all configurations\n",
    "    sdNf = [[countZeros(cevs),  detM(cevs, qm, 0.63, False),\n",
    "            sigma(cevs, qm, False), 0.0] for cevs in allCEVs]\n",
    "    \n",
    "    # apply appropriate reweighting\n",
    "    for i in range(len(sdNf)):\n",
    "        sdNf[i][3] = sdNf[i][1]**Nf * sdNf[i][2]\n",
    "    \n",
    "    # sort according to the reweighted contributions\n",
    "    sdNf.sort(key = element3, reverse = True)\n",
    "    \n",
    "    # take Q of the first n elements\n",
    "    Qn = [sdNf[i][0] for i in range(first_n)]\n",
    "    \n",
    "    # how many entries are in each topological sector\n",
    "    Qmax = int(max(Qn))\n",
    "    Qc = [0 for i in range(Qmax + 1)]    \n",
    "    for Q in Qn: Qc[Q] += 1\n",
    "    print(Qc)\n",
    "    print()\n",
    "    \n",
    "    return sdNf"
   ]
  },
  {
   "cell_type": "markdown",
   "id": "e83a5097",
   "metadata": {},
   "source": [
    "- consistency check - distribution of all configurations:"
   ]
  },
  {
   "cell_type": "code",
   "execution_count": 50,
   "id": "584a6003",
   "metadata": {},
   "outputs": [
    {
     "name": "stdout",
     "output_type": "stream",
     "text": [
      "[3386, 4940, 1587, 87]\n",
      "\n",
      "CPU times: user 36.4 s, sys: 0 ns, total: 36.4 s\n",
      "Wall time: 36.4 s\n"
     ]
    }
   ],
   "source": [
    "%%time\n",
    "sdNf = Q_first_n(allCEVs, 0.05, 6, 10000)"
   ]
  },
  {
   "cell_type": "markdown",
   "id": "fd3184b0",
   "metadata": {},
   "source": [
    "- 203 configurations which contribute 99% for 6 flavors at $m = 0.05$:"
   ]
  },
  {
   "cell_type": "code",
   "execution_count": 51,
   "id": "4ef182c9",
   "metadata": {},
   "outputs": [
    {
     "name": "stdout",
     "output_type": "stream",
     "text": [
      "[126, 77]\n",
      "\n",
      "CPU times: user 36.4 s, sys: 0 ns, total: 36.4 s\n",
      "Wall time: 36.4 s\n"
     ]
    }
   ],
   "source": [
    "%%time\n",
    "sdNf = Q_first_n(allCEVs, 0.05, 6, 203)"
   ]
  },
  {
   "cell_type": "code",
   "execution_count": 52,
   "id": "7370bf6b",
   "metadata": {},
   "outputs": [
    {
     "data": {
      "text/plain": [
       "[[0, 1693.9687267271795, 0.05617696253891176, 1.3273656766250445e+18],\n",
       " [0, 1469.3816209543984, 0.05864305886312658, 5.902340170055158e+17],\n",
       " [1, 1356.838357857296, 0.08405511396983326, 5.244846918714118e+17],\n",
       " [1, 1344.295079220294, 0.082753325748726, 4.8837464659017754e+17],\n",
       " [0, 1382.8647408279712, 0.06497351078907741, 4.5437513264815405e+17],\n",
       " [1, 1317.9221913500892, 0.0818177530612245, 4.2873226955116346e+17],\n",
       " [0, 1319.030615114233, 0.06842669279480514, 3.603751239657502e+17],\n",
       " [1, 1211.591566186346, 0.08666018553308208, 2.7413031425138835e+17],\n",
       " [1, 1152.1981879717766, 0.08229137887510017, 1.9253844799869626e+17],\n",
       " [0, 1206.408509301415, 0.06091996576458569, 1.8781315201104406e+17],\n",
       " [0, 1153.605041337916, 0.06338283455415113, 1.4938759277248416e+17],\n",
       " [0, 1106.9386395648644, 0.061953222084143195, 1.1397384064350766e+17],\n",
       " [0, 1119.1944444123587, 0.05734773265681854, 1.1270664604146472e+17],\n",
       " [1, 1044.378524461673, 0.08349326344073688, 1.0834254509258534e+17],\n",
       " [0, 1100.2313724743433, 0.06037988373637676, 1.0710171351591597e+17],\n",
       " [0, 1043.8355968885528, 0.06355371986411397, 8.221169338706277e+16],\n",
       " [1, 997.990195455019, 0.0827392200513682, 8.174648182036504e+16],\n",
       " [0, 1039.692700997149, 0.06085907228273113, 7.686971985604408e+16],\n",
       " [1, 970.8255691509288, 0.08388235368101733, 7.022921989446745e+16],\n",
       " [0, 1014.4785854749276, 0.06360220955001418, 6.933132614245001e+16],\n",
       " [0, 987.9738242235989, 0.0682342962437587, 6.345638783599074e+16],\n",
       " [0, 976.2765468332053, 0.07126058186300219, 6.170019011962876e+16],\n",
       " [0, 968.2784461186379, 0.05757671699809821, 4.745134045407947e+16],\n",
       " [0, 935.2475966437552, 0.06583012677158932, 4.405389339078986e+16],\n",
       " [1, 900.7163135964367, 0.08218138119725825, 4.388353535787572e+16],\n",
       " [0, 917.6973375597063, 0.07150968441782024, 4.27131589420167e+16],\n",
       " [1, 895.1623948945512, 0.08139857087873431, 4.188203323693407e+16],\n",
       " [1, 883.4292846275112, 0.08400780823153277, 3.993469787353909e+16],\n",
       " [0, 887.9701752843823, 0.0715595301679275, 3.5079852238925172e+16],\n",
       " [1, 859.8519915059408, 0.0828962778647813, 3.35025018241019e+16]]"
      ]
     },
     "execution_count": 52,
     "metadata": {},
     "output_type": "execute_result"
    }
   ],
   "source": [
    "sdNf[:30]"
   ]
  },
  {
   "cell_type": "markdown",
   "id": "61a2bc5f",
   "metadata": {},
   "source": [
    "- 58 configurations which contribute 99% for 6 flavors at $m = 0.01$:"
   ]
  },
  {
   "cell_type": "code",
   "execution_count": 53,
   "id": "837085ce",
   "metadata": {},
   "outputs": [
    {
     "name": "stdout",
     "output_type": "stream",
     "text": [
      "[58]\n",
      "\n",
      "CPU times: user 36.9 s, sys: 9.99 ms, total: 36.9 s\n",
      "Wall time: 36.9 s\n"
     ]
    }
   ],
   "source": [
    "%%time\n",
    "sdNf = Q_first_n(allCEVs, 0.01, 6, 58)"
   ]
  },
  {
   "cell_type": "markdown",
   "id": "7a0f9bd1",
   "metadata": {},
   "source": [
    "### Relative contributions to $\\Sigma$"
   ]
  },
  {
   "cell_type": "markdown",
   "id": "50912b98",
   "metadata": {},
   "source": [
    "- relative contributions to $\\Sigma$ from different topological sectors as a function of fermion mass "
   ]
  },
  {
   "cell_type": "code",
   "execution_count": 54,
   "id": "bef5098e",
   "metadata": {},
   "outputs": [],
   "source": [
    "def QrsigmaVqm(allCEVs, qmMin, qmMax, qmStep, Nf):\n",
    "# allCEVs - eigenvalues for all configurations\n",
    "# qmMin, qmMax, qmStep - range of quark masses\n",
    "# Nf - number of flavors\n",
    "\n",
    "    # compute absolute topological charge\n",
    "    Qs = [countZeros(cevs) for cevs in allCEVs]\n",
    "\n",
    "    # find maximal topological charge\n",
    "    Qmax = int(max(Qs))\n",
    "    print(\"Qmax =\", Qmax)\n",
    "    Qc = [0 for i in range(Qmax + 1)]\n",
    "    QrsigNf = [[] for i in range(Qmax + 1)]\n",
    "    \n",
    "    # how many entries are in each topological sector\n",
    "    for Q in Qs: Qc[Q] += 1\n",
    "    print(Qc)\n",
    "    print()\n",
    "    \n",
    "    # loop over quark masses\n",
    "    qms = np.arange(qmMin, qmMax, qmStep)\n",
    "    for qm in qms:\n",
    "        # compute determinants for all configuration\n",
    "        dets = [detM(cevs, qm, 0.63, False) for cevs in allCEVs]\n",
    "\n",
    "        # compute sigmas for all configurations\n",
    "        sigmas = [sigma(cevs, qm, False) for cevs in allCEVs]\n",
    "    \n",
    "        # reweighting\n",
    "        detNf = [d**Nf for d in dets]\n",
    "        sumdetNf = sum(detNf)\n",
    "        sigdetNf = [sigmas[i] * detNf[i] / sumdetNf for i in range(len(sigmas))]\n",
    "        sigmaNf = sum(sigdetNf)\n",
    "        print(\"{0:6.4f}  {1:9.7f}\".format(qm, sigmaNf))\n",
    "    \n",
    "        # create Qmax + 1 empty lists\n",
    "        QsdNf = []\n",
    "        for i in range(Qmax + 1): QsdNf.append([])\n",
    "\n",
    "        # add sigdets according to topological charge\n",
    "        for i in range(len(dets)):\n",
    "            QsdNf[Qs[i]].append(sigdetNf[i])\n",
    "        \n",
    "        # relative contribution of each topological sector\n",
    "        print(\"   \", end = '')\n",
    "        for i in range(Qmax + 1):\n",
    "            QrsigNf[i].append(sum(QsdNf[i]) / sigmaNf)\n",
    "            print(\" {0:8.2e}\".format(QrsigNf[i][-1]), end = '')\n",
    "        print()\n",
    "\n",
    "    print()\n",
    "    fig, p = plt.subplots(figsize = (8, 6))\n",
    "    for i in range(len(QrsigNf)):\n",
    "        p.plot(qms, QrsigNf[i], label = \"$Q = {0:d}$\".format(i))\n",
    "    p.set_xlim(0.0, None)\n",
    "    p.set_ylim(0.0, 1.0)\n",
    "    p.set_xlabel(\"$m$\")\n",
    "    p.set_ylabel(\"relative contribution to $\\Sigma$\")\n",
    "    p.set_yticks(np.arange(0, 1.0, 0.05), minor = True)\n",
    "    p.legend(loc = \"upper right\", fontsize = 14)"
   ]
  },
  {
   "cell_type": "markdown",
   "id": "b9af7970",
   "metadata": {},
   "source": [
    "#### Quenched ($N_f = 0$)"
   ]
  },
  {
   "cell_type": "code",
   "execution_count": null,
   "id": "bf2d1f1a",
   "metadata": {},
   "outputs": [
    {
     "name": "stdout",
     "output_type": "stream",
     "text": [
      "Qmax = 8\n",
      "[6665, 11241, 7168, 3367, 1183, 311, 56, 8, 1]\n",
      "\n",
      "0.0001  24.5173107\n",
      "    1.62e-05 2.65e-01 3.38e-01 2.38e-01 1.12e-01 3.67e-02 7.93e-03 1.32e-03 1.89e-04\n",
      "0.0101  0.2679158\n",
      "    4.58e-02 2.70e-01 3.19e-01 2.21e-01 1.03e-01 3.36e-02 7.24e-03 1.20e-03 1.72e-04\n",
      "0.0201  0.1626592\n",
      "    1.02e-01 2.88e-01 2.93e-01 1.93e-01 8.81e-02 2.86e-02 6.11e-03 1.01e-03 1.44e-04\n",
      "0.0301  0.1341586\n",
      "    1.42e-01 3.08e-01 2.74e-01 1.71e-01 7.57e-02 2.41e-02 5.11e-03 8.42e-04 1.19e-04\n",
      "0.0401  0.1237650\n",
      "    1.67e-01 3.24e-01 2.62e-01 1.54e-01 6.63e-02 2.08e-02 4.35e-03 7.10e-04 1.00e-04\n",
      "0.0501  0.1200821\n",
      "    1.84e-01 3.37e-01 2.54e-01 1.43e-01 5.97e-02 1.83e-02 3.78e-03 6.12e-04 8.56e-05\n",
      "0.0601  0.1194717\n",
      "    1.94e-01 3.46e-01 2.49e-01 1.35e-01 5.49e-02 1.65e-02 3.36e-03 5.39e-04 7.49e-05\n",
      "0.0701  0.1204511\n",
      "    2.01e-01 3.53e-01 2.46e-01 1.30e-01 5.14e-02 1.52e-02 3.06e-03 4.84e-04 6.68e-05\n",
      "0.0801  0.1223181\n",
      "    2.06e-01 3.57e-01 2.44e-01 1.26e-01 4.89e-02 1.43e-02 2.82e-03 4.43e-04 6.06e-05\n",
      "0.0901  0.1247036\n",
      "    2.10e-01 3.61e-01 2.43e-01 1.23e-01 4.70e-02 1.35e-02 2.64e-03 4.11e-04 5.59e-05\n",
      "0.1001  0.1273978\n",
      "    2.12e-01 3.64e-01 2.42e-01 1.21e-01 4.56e-02 1.29e-02 2.51e-03 3.86e-04 5.21e-05\n",
      "0.1101  0.1302746\n",
      "    2.14e-01 3.66e-01 2.41e-01 1.19e-01 4.45e-02 1.25e-02 2.40e-03 3.67e-04 4.92e-05\n",
      "0.1201  0.1332546\n",
      "    2.15e-01 3.67e-01 2.41e-01 1.18e-01 4.36e-02 1.22e-02 2.31e-03 3.51e-04 4.68e-05\n",
      "0.1301  0.1362857\n",
      "    2.17e-01 3.69e-01 2.41e-01 1.17e-01 4.29e-02 1.19e-02 2.24e-03 3.38e-04 4.48e-05\n",
      "0.1401  0.1393331\n",
      "    2.17e-01 3.70e-01 2.40e-01 1.16e-01 4.24e-02 1.17e-02 2.19e-03 3.28e-04 4.32e-05\n",
      "0.1501  0.1423729\n",
      "    2.18e-01 3.70e-01 2.40e-01 1.16e-01 4.20e-02 1.15e-02 2.14e-03 3.19e-04 4.19e-05\n",
      "0.1601  0.1453883\n",
      "    2.19e-01 3.71e-01 2.40e-01 1.15e-01 4.16e-02 1.13e-02 2.11e-03 3.12e-04 4.08e-05\n",
      "0.1701  0.1483676\n",
      "    2.19e-01 3.71e-01 2.40e-01 1.15e-01 4.13e-02 1.12e-02 2.07e-03 3.06e-04 3.99e-05\n"
     ]
    }
   ],
   "source": [
    "%%time\n",
    "QrsigmaVqm(allCEVs, 0.0001, 0.3002, 0.01, 0)"
   ]
  },
  {
   "cell_type": "markdown",
   "id": "84577dc0",
   "metadata": {},
   "source": [
    "#### 1 flavor"
   ]
  },
  {
   "cell_type": "code",
   "execution_count": null,
   "id": "dd4b7618",
   "metadata": {
    "scrolled": false
   },
   "outputs": [],
   "source": [
    "%%time\n",
    "QrsigmaVqm(allCEVs, 0.0001, 0.3002, 0.005, 1)"
   ]
  },
  {
   "cell_type": "markdown",
   "id": "f5cf4aa8",
   "metadata": {},
   "source": [
    "#### 2 flavors"
   ]
  },
  {
   "cell_type": "code",
   "execution_count": null,
   "id": "db465990",
   "metadata": {},
   "outputs": [],
   "source": [
    "%%time\n",
    "QrsigmaVqm(allCEVs, 0.0001, 0.3002, 0.01, 2)"
   ]
  },
  {
   "cell_type": "markdown",
   "id": "cce5849b",
   "metadata": {},
   "source": [
    "#### 3 flavors"
   ]
  },
  {
   "cell_type": "code",
   "execution_count": null,
   "id": "df4e9238",
   "metadata": {},
   "outputs": [],
   "source": [
    "%%time\n",
    "QrsigmaVqm(allCEVs, 0.0001, 0.3002, 0.01, 3)"
   ]
  },
  {
   "cell_type": "markdown",
   "id": "d7060a33",
   "metadata": {},
   "source": [
    "#### 4 flavors"
   ]
  },
  {
   "cell_type": "code",
   "execution_count": null,
   "id": "2cf117e2",
   "metadata": {},
   "outputs": [],
   "source": [
    "%%time\n",
    "QrsigmaVqm(allCEVs, 0.0001, 0.3002, 0.01, 4)"
   ]
  },
  {
   "cell_type": "markdown",
   "id": "889d2d2f",
   "metadata": {},
   "source": [
    "#### 5 flavors"
   ]
  },
  {
   "cell_type": "code",
   "execution_count": null,
   "id": "2e1da27b",
   "metadata": {},
   "outputs": [],
   "source": [
    "%%time\n",
    "QrsigmaVqm(allCEVs, 0.0001, 0.3002, 0.01, 5)"
   ]
  },
  {
   "cell_type": "markdown",
   "id": "9a14ee38",
   "metadata": {},
   "source": [
    "#### 6 flavors"
   ]
  },
  {
   "cell_type": "code",
   "execution_count": null,
   "id": "0c09984e",
   "metadata": {},
   "outputs": [],
   "source": [
    "%%time\n",
    "QrsigmaVqm(allCEVs, 0.0001, 0.3002, 0.01, 6)"
   ]
  },
  {
   "cell_type": "markdown",
   "id": "f85b8d41",
   "metadata": {},
   "source": [
    "#### $\\Sigma$ in different topological sectors"
   ]
  },
  {
   "cell_type": "markdown",
   "id": "297e3b66",
   "metadata": {},
   "source": [
    "- crosscheck with the Jaime's `PbPOverlap.pdf` report"
   ]
  },
  {
   "cell_type": "markdown",
   "id": "c28d0dc0",
   "metadata": {},
   "source": [
    "- $\\Sigma$ computed separately in each topological sector as a function of quark mass:"
   ]
  },
  {
   "cell_type": "code",
   "execution_count": null,
   "id": "b6551f13",
   "metadata": {},
   "outputs": [],
   "source": [
    "def QsigmaVqm(allCEVs, qmMin, qmMax, qmStep, Nf, g):\n",
    "# allCEVs - eigenvalues for all configurations\n",
    "# qmMin, qmMax, qmStep - range of quark masses\n",
    "# Nf - number of flavors\n",
    "# g - gauge coupling\n",
    "\n",
    "    # compute absolute topological charge\n",
    "    Qs = [countZeros(cevs) for cevs in allCEVs]\n",
    "\n",
    "    # find maximal topological charge\n",
    "    Qmax = int(max(Qs))\n",
    "    print(\"Qmax =\", Qmax)\n",
    "    \n",
    "    # how many entries are in each topological sector\n",
    "    Qc = [0 for iq in range(Qmax + 1)]\n",
    "    for Q in Qs: Qc[Q] += 1\n",
    "    print(Qc)\n",
    "    print()\n",
    "    \n",
    "    # prepare lists for sigma in different topological sectors\n",
    "    QsigmaNf = [[] for iq in range(Qmax + 1)]\n",
    "        \n",
    "    # loop over quark masses\n",
    "    qms = np.arange(qmMin, qmMax, qmStep)\n",
    "    for qm in qms:\n",
    "        print(\"{:6.4f}:\".format(qm), end = '')\n",
    "        \n",
    "        # compute determinants for all configuration\n",
    "        dets = [detM(cevs, qm, 0.63, False) for cevs in allCEVs]\n",
    "\n",
    "        # compute sigmas for all configurations\n",
    "        sigmas = [sigma(cevs, qm, False) for cevs in allCEVs]\n",
    "        \n",
    "        # sort according to topological charge\n",
    "        QdetsNf = [[] for iq in range(Qmax + 1)]\n",
    "        QsdNf = [[] for iq in range(Qmax + 1)]\n",
    "        for i in range(len(dets)):\n",
    "            d = dets[i]**Nf\n",
    "            QdetsNf[Qs[i]].append(d)\n",
    "            QsdNf[Qs[i]].append(sigmas[i] * d)\n",
    "    \n",
    "        # sigma for each topological sector\n",
    "        for iq in range(Qmax + 1):\n",
    "            QsigmaNf[iq].append(sum(QsdNf[iq]) / sum(QdetsNf[iq]))\n",
    "            print(\" {0:8.2e}\".format(QsigmaNf[iq][-1]), end = '')\n",
    "        print()\n",
    "\n",
    "        # division by gauge coupling g\n",
    "        gqms = [qm / g for qm in qms]\n",
    "        gQsigmaNf = [[s / g for s in QsigmaNf[iq]] for iq in range(Qmax + 1)]\n",
    "        \n",
    "    print()\n",
    "    fig, p = plt.subplots(figsize = (8, 5.5))\n",
    "    for iq in range(len(QsigmaNf)):\n",
    "        p.plot(gqms, gQsigmaNf[iq], label = \"$Q = {0:d}$\".format(iq))\n",
    "    p.set_xlim(0.0, 0.4)\n",
    "    p.set_ylim(0.0, 0.5)\n",
    "    p.set_xlabel(\"$m\\:/\\:g$\", fontsize = 12)\n",
    "    p.set_ylabel(r\"$\\Sigma\\:/\\:g$\", fontsize = 14)\n",
    "    p.set_yticks(np.arange(0, 0.2, 0.01), minor = True)\n",
    "    p.legend(loc = \"lower right\", fontsize = 14)"
   ]
  },
  {
   "cell_type": "code",
   "execution_count": null,
   "id": "e977ab35",
   "metadata": {},
   "outputs": [],
   "source": [
    "%%time\n",
    "QsigmaVqm(allCEVs, 0.005, 0.2001, 0.005, 2, 0.5)"
   ]
  },
  {
   "cell_type": "markdown",
   "id": "78e234c0",
   "metadata": {},
   "source": [
    "*Hip, 2023-08-11*"
   ]
  }
 ],
 "metadata": {
  "kernelspec": {
   "display_name": "Python 3 (ipykernel)",
   "language": "python",
   "name": "python3"
  },
  "language_info": {
   "codemirror_mode": {
    "name": "ipython",
    "version": 3
   },
   "file_extension": ".py",
   "mimetype": "text/x-python",
   "name": "python",
   "nbconvert_exporter": "python",
   "pygments_lexer": "ipython3",
   "version": "3.10.12"
  }
 },
 "nbformat": 4,
 "nbformat_minor": 5
}
